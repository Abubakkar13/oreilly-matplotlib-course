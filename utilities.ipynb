{
 "cells": [
  {
   "cell_type": "markdown",
   "metadata": {},
   "source": [
    "## Hiding Markdown Cells\n",
    "\n",
    "To hide all of the markdown cells in a notebook, copy the the following code into a cell in your notebook and execute it to hide all of the paragraphs in a rendered HTML cell. Executing the code again will revert the change and show all of the output from markdown cells once again. \n",
    "\n",
    "You can test the code below by executing it on this page. Doing so should hide all of the text you are reading now, but leave the title. Executing it again will bring the full set of text back again. If you need to hide all text, not just the paragraphs, just remove the ' p' from the selector string in the code below."
   ]
  },
  {
   "cell_type": "code",
   "execution_count": 12,
   "metadata": {
    "collapsed": false
   },
   "outputs": [
    {
     "data": {
      "application/javascript": [
       "// This bit of JavaScript should only hide the paragraphs \n",
       "// in the markdown cells. The titles should be left alone.\n",
       "// If, however, you need all HTML hiden, just remove the\n",
       "// 'p' from the line below.\n",
       "var selector = 'div.text_cell p';\n",
       "if ($(selector + ':visible').length){\n",
       "    $(selector).hide();\n",
       "} else {\n",
       "    $(selector).show();\n",
       "}"
      ],
      "text/plain": [
       "<IPython.core.display.Javascript object>"
      ]
     },
     "metadata": {},
     "output_type": "display_data"
    }
   ],
   "source": [
    "%%javascript\n",
    "// This bit of JavaScript should only hide the paragraphs \n",
    "// in the markdown cells. The titles should be left alone.\n",
    "// If, however, you need all HTML hiden, just remove the\n",
    "// 'p' from the line below.\n",
    "var selector = 'div.text_cell p';\n",
    "if ($(selector + ':visible').length){\n",
    "    $(selector).hide();\n",
    "} else {\n",
    "    $(selector).show();\n",
    "}"
   ]
  }
 ],
 "metadata": {
  "kernelspec": {
   "display_name": "Python 2",
   "language": "python",
   "name": "python2"
  },
  "language_info": {
   "codemirror_mode": {
    "name": "ipython",
    "version": 2
   },
   "file_extension": ".py",
   "mimetype": "text/x-python",
   "name": "python",
   "nbconvert_exporter": "python",
   "pygments_lexer": "ipython2",
   "version": "2.7.10"
  }
 },
 "nbformat": 4,
 "nbformat_minor": 0
}
