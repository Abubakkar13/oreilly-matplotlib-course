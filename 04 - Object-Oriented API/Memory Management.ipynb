{
 "cells": [
  {
   "cell_type": "code",
   "execution_count": 1,
   "metadata": {
    "collapsed": false
   },
   "outputs": [],
   "source": [
    "%matplotlib inline\n",
    "\n",
    "import matplotlib.pyplot as plt\n",
    "import numpy as np\n",
    "\n",
    "plt.ioff()"
   ]
  },
  {
   "cell_type": "markdown",
   "metadata": {},
   "source": [
    "## Memory Management"
   ]
  },
  {
   "cell_type": "code",
   "execution_count": 2,
   "metadata": {
    "collapsed": true
   },
   "outputs": [],
   "source": [
    "import warnings\n",
    "warnings.simplefilter(action=\"always\", category=RuntimeWarning)"
   ]
  },
  {
   "cell_type": "code",
   "execution_count": 3,
   "metadata": {
    "collapsed": false
   },
   "outputs": [
    {
     "name": "stderr",
     "output_type": "stream",
     "text": [
      "/Users/croach/anaconda/envs/mpl/lib/python2.7/site-packages/matplotlib/pyplot.py:516: RuntimeWarning: More than 20 figures have been opened. Figures created through the pyplot interface (`matplotlib.pyplot.figure`) are retained until explicitly closed and may consume too much memory. (To control this warning, see the rcParam `figure.max_open_warning`).\n",
      "  max_open_warning, RuntimeWarning)\n"
     ]
    }
   ],
   "source": [
    "for i in range(21):\n",
    "    plt.figure()\n",
    "    plt.hist(np.random.randn(1000))"
   ]
  },
  {
   "cell_type": "code",
   "execution_count": 4,
   "metadata": {
    "collapsed": false
   },
   "outputs": [
    {
     "data": {
      "text/plain": [
       "[1, 2, 3, 4, 5, 6, 7, 8, 9, 10, 11, 12, 13, 14, 15, 16, 17, 18, 19, 20, 21]"
      ]
     },
     "execution_count": 4,
     "metadata": {},
     "output_type": "execute_result"
    }
   ],
   "source": [
    "plt.get_fignums()"
   ]
  },
  {
   "cell_type": "markdown",
   "metadata": {},
   "source": [
    "### Why does this happen?\n",
    "\n",
    "By default, the `pylot` plotting functions do not close figures as they're used. Instead, `pyplot` registers an event listener that destroys all figures in memory when your script comes to an end. While the script is running, however, the `pyplot` interface does actively manage memory by reusing a single figure over and over again. Basically, every time a figure is rendered (output to a file or displayed in a window) `pyplot` will clear the figure and reuse it for the next set of plotting commands. It grabs the current figure from the top of global stack, and it always checks the stack for a figure before it creates a new one. If the user calls the `figure` function directly, they bypass this check and create a new figure and add it to the top of the stack, and `pyplot` just uses that whenever plotting commands are called. This means that each time the figure "
   ]
  },
  {
   "cell_type": "code",
   "execution_count": 5,
   "metadata": {
    "collapsed": false
   },
   "outputs": [],
   "source": [
    "plt.close(\"all\")"
   ]
  },
  {
   "cell_type": "code",
   "execution_count": 8,
   "metadata": {
    "collapsed": false
   },
   "outputs": [],
   "source": [
    "for i in range(21):\n",
    "    plt.figure()\n",
    "    plt.hist(np.random.randn(1000))\n",
    "    plt.close()"
   ]
  },
  {
   "cell_type": "markdown",
   "metadata": {},
   "source": [
    "Now we no longer get a warning because we are closing each figure manually after we're finished with it."
   ]
  },
  {
   "cell_type": "code",
   "execution_count": 7,
   "metadata": {
    "collapsed": false
   },
   "outputs": [
    {
     "data": {
      "text/plain": [
       "[]"
      ]
     },
     "execution_count": 7,
     "metadata": {},
     "output_type": "execute_result"
    }
   ],
   "source": [
    "plt.get_fignums()"
   ]
  },
  {
   "cell_type": "markdown",
   "metadata": {},
   "source": [
    "However, for the interactive backends (e.g., UI and Jupyter notebook), the `_pylab_helpers.destroy` function is called once the figure is shown. So, we end up with only 1 active figure in the queue at all times. So, every at every iteration, we call the `figure` function to create a new figure, show it, then close it and start all over. So, every iteration has a brand new figure.\n",
    "\n",
    "NOTE TO SELF: not sure if I want to use the logger function again on this example. My main reasoning behind it was to show that the close function gets called and it's useful to see the figure being created again every time through the loop, but not sure if it adds value, or if it's just a bit too cluttered."
   ]
  },
  {
   "cell_type": "code",
   "execution_count": 15,
   "metadata": {
    "collapsed": true
   },
   "outputs": [],
   "source": [
    "# Current indentation level (i.e., how deep in the call stack we are)\n",
    "level = 0\n",
    "# Global variable to keep track of the current line number\n",
    "line = 0\n",
    "\n",
    "# Wraps a function in a function that prints our call information\n",
    "def logger(fn):\n",
    "    def wrapper(*args, **kwargs):\n",
    "        # Create the padding string according to the current level in the call\n",
    "        # stack, and increase the level since we're about to pop another \n",
    "        # function onto the stack.\n",
    "        global level, line\n",
    "        padding = \"|\" + \"-\" * (level * 4 - 1) if level > 0 else \"\"\n",
    "        level += 1\n",
    "\n",
    "        # Print calling information, call the function, and print returning info\n",
    "        line += 1\n",
    "        print \"%2d. %sCalling %s.%s\" % (line, padding, fn.__module__, fn.__name__)\n",
    "        result = fn(*args, **kwargs)\n",
    "        line += 1\n",
    "        print \"%2d. %sReturning <%s:%s> from %s.%s\" % \\\n",
    "            (line, padding, result.__class__.__name__, id(result), fn.__module__, fn.__name__)\n",
    "        \n",
    "        # Decrease the call stack level, since we are returning.\n",
    "        level -= 1\n",
    "        return result\n",
    "    return wrapper\n",
    "    \n",
    "# Decorate several methods with the logger function\n",
    "plt.gca = logger(plt.gca)\n",
    "plt.gcf = logger(plt.gcf)\n",
    "plt.figure = logger(plt.figure)\n",
    "plt.close = logger(plt.close)\n",
    "from matplotlib.figure import Figure\n",
    "Figure.gca = logger(Figure.gca)\n",
    "Figure.add_subplot = logger(Figure.add_subplot)"
   ]
  },
  {
   "cell_type": "code",
   "execution_count": 16,
   "metadata": {
    "collapsed": false
   },
   "outputs": [
    {
     "name": "stdout",
     "output_type": "stream",
     "text": [
      " 1. Calling matplotlib.pyplot.close\n",
      " 2. Returning <NoneType:4296531008> from matplotlib.pyplot.close\n"
     ]
    }
   ],
   "source": [
    "plt.close(\"all\")"
   ]
  },
  {
   "cell_type": "code",
   "execution_count": 20,
   "metadata": {
    "collapsed": false,
    "scrolled": true
   },
   "outputs": [
    {
     "name": "stdout",
     "output_type": "stream",
     "text": [
      " 1. Calling matplotlib.pyplot.figure\n",
      " 2. Returning <Figure:4428436880> from matplotlib.pyplot.figure\n",
      " 3. Calling matplotlib.pyplot.gca\n",
      " 4. |---Calling matplotlib.pyplot.gcf\n",
      " 5. |---Returning <Figure:4428436880> from matplotlib.pyplot.gcf\n",
      " 6. |---Calling matplotlib.figure.gca\n",
      " 7. |-------Calling matplotlib.figure.add_subplot\n",
      " 8. |-------Returning <AxesSubplot:4427814224> from matplotlib.figure.add_subplot\n",
      " 9. |---Returning <AxesSubplot:4427814224> from matplotlib.figure.gca\n",
      "10. Returning <AxesSubplot:4427814224> from matplotlib.pyplot.gca\n"
     ]
    },
    {
     "data": {
      "image/png": "[encoded data removed]",
      "text/plain": [
       "<matplotlib.figure.Figure at 0x107f49590>"
      ]
     },
     "metadata": {},
     "output_type": "display_data"
    },
    {
     "name": "stdout",
     "output_type": "stream",
     "text": [
      "11. Calling matplotlib.pyplot.close\n",
      "12. Returning <NoneType:4296531008> from matplotlib.pyplot.close\n",
      "-------------------------------------------------------------------------------\n",
      " 1. Calling matplotlib.pyplot.figure\n",
      " 2. Returning <Figure:4390434768> from matplotlib.pyplot.figure\n",
      " 3. Calling matplotlib.pyplot.gca\n",
      " 4. |---Calling matplotlib.pyplot.gcf\n",
      " 5. |---Returning <Figure:4390434768> from matplotlib.pyplot.gcf\n",
      " 6. |---Calling matplotlib.figure.gca\n",
      " 7. |-------Calling matplotlib.figure.add_subplot\n",
      " 8. |-------Returning <AxesSubplot:4407086224> from matplotlib.figure.add_subplot\n",
      " 9. |---Returning <AxesSubplot:4407086224> from matplotlib.figure.gca\n",
      "10. Returning <AxesSubplot:4407086224> from matplotlib.pyplot.gca\n"
     ]
    },
    {
     "data": {
      "image/png": "[encoded data removed]",
      "text/plain": [
       "<matplotlib.figure.Figure at 0x105b0b7d0>"
      ]
     },
     "metadata": {},
     "output_type": "display_data"
    },
    {
     "name": "stdout",
     "output_type": "stream",
     "text": [
      "11. Calling matplotlib.pyplot.close\n",
      "12. Returning <NoneType:4296531008> from matplotlib.pyplot.close\n",
      "-------------------------------------------------------------------------------\n",
      " 1. Calling matplotlib.pyplot.figure\n",
      " 2. Returning <Figure:4391108944> from matplotlib.pyplot.figure\n",
      " 3. Calling matplotlib.pyplot.gca\n",
      " 4. |---Calling matplotlib.pyplot.gcf\n",
      " 5. |---Returning <Figure:4391108944> from matplotlib.pyplot.gcf\n",
      " 6. |---Calling matplotlib.figure.gca\n",
      " 7. |-------Calling matplotlib.figure.add_subplot\n",
      " 8. |-------Returning <AxesSubplot:4408237392> from matplotlib.figure.add_subplot\n",
      " 9. |---Returning <AxesSubplot:4408237392> from matplotlib.figure.gca\n",
      "10. Returning <AxesSubplot:4408237392> from matplotlib.pyplot.gca\n"
     ]
    },
    {
     "data": {
      "image/png": "[encoded data removed]",
      "text/plain": [
       "<matplotlib.figure.Figure at 0x105bb0150>"
      ]
     },
     "metadata": {},
     "output_type": "display_data"
    },
    {
     "name": "stdout",
     "output_type": "stream",
     "text": [
      "11. Calling matplotlib.pyplot.close\n",
      "12. Returning <NoneType:4296531008> from matplotlib.pyplot.close\n",
      "-------------------------------------------------------------------------------\n",
      " 1. Calling matplotlib.pyplot.figure\n",
      " 2. Returning <Figure:4390423568> from matplotlib.pyplot.figure\n",
      " 3. Calling matplotlib.pyplot.gca\n",
      " 4. |---Calling matplotlib.pyplot.gcf\n",
      " 5. |---Returning <Figure:4390423568> from matplotlib.pyplot.gcf\n",
      " 6. |---Calling matplotlib.figure.gca\n",
      " 7. |-------Calling matplotlib.figure.add_subplot\n",
      " 8. |-------Returning <AxesSubplot:4390397648> from matplotlib.figure.add_subplot\n",
      " 9. |---Returning <AxesSubplot:4390397648> from matplotlib.figure.gca\n",
      "10. Returning <AxesSubplot:4390397648> from matplotlib.pyplot.gca\n"
     ]
    },
    {
     "data": {
      "image/png": "[encoded data removed]",
      "text/plain": [
       "<matplotlib.figure.Figure at 0x105b08c10>"
      ]
     },
     "metadata": {},
     "output_type": "display_data"
    },
    {
     "name": "stdout",
     "output_type": "stream",
     "text": [
      "11. Calling matplotlib.pyplot.close\n",
      "12. Returning <NoneType:4296531008> from matplotlib.pyplot.close\n",
      "-------------------------------------------------------------------------------\n",
      " 1. Calling matplotlib.pyplot.figure\n",
      " 2. Returning <Figure:4409797008> from matplotlib.pyplot.figure\n",
      " 3. Calling matplotlib.pyplot.gca\n",
      " 4. |---Calling matplotlib.pyplot.gcf\n",
      " 5. |---Returning <Figure:4409797008> from matplotlib.pyplot.gcf\n",
      " 6. |---Calling matplotlib.figure.gca\n",
      " 7. |-------Calling matplotlib.figure.add_subplot\n",
      " 8. |-------Returning <AxesSubplot:4409636624> from matplotlib.figure.add_subplot\n",
      " 9. |---Returning <AxesSubplot:4409636624> from matplotlib.figure.gca\n",
      "10. Returning <AxesSubplot:4409636624> from matplotlib.pyplot.gca\n"
     ]
    },
    {
     "data": {
      "image/png": "[encoded data removed]",
      "text/plain": [
       "<matplotlib.figure.Figure at 0x106d82990>"
      ]
     },
     "metadata": {},
     "output_type": "display_data"
    },
    {
     "name": "stdout",
     "output_type": "stream",
     "text": [
      "11. Calling matplotlib.pyplot.close\n",
      "12. Returning <NoneType:4296531008> from matplotlib.pyplot.close\n",
      "-------------------------------------------------------------------------------\n",
      " 1. Calling matplotlib.pyplot.figure\n",
      " 2. Returning <Figure:4409503824> from matplotlib.pyplot.figure\n",
      " 3. Calling matplotlib.pyplot.gca\n",
      " 4. |---Calling matplotlib.pyplot.gcf\n",
      " 5. |---Returning <Figure:4409503824> from matplotlib.pyplot.gcf\n",
      " 6. |---Calling matplotlib.figure.gca\n",
      " 7. |-------Calling matplotlib.figure.add_subplot\n",
      " 8. |-------Returning <AxesSubplot:4410103184> from matplotlib.figure.add_subplot\n",
      " 9. |---Returning <AxesSubplot:4410103184> from matplotlib.figure.gca\n",
      "10. Returning <AxesSubplot:4410103184> from matplotlib.pyplot.gca\n"
     ]
    },
    {
     "data": {
      "image/png": "[encoded data removed]",
      "text/plain": [
       "<matplotlib.figure.Figure at 0x106d3b050>"
      ]
     },
     "metadata": {},
     "output_type": "display_data"
    },
    {
     "name": "stdout",
     "output_type": "stream",
     "text": [
      "11. Calling matplotlib.pyplot.close\n",
      "12. Returning <NoneType:4296531008> from matplotlib.pyplot.close\n",
      "-------------------------------------------------------------------------------\n",
      " 1. Calling matplotlib.pyplot.figure\n",
      " 2. Returning <Figure:4387758160> from matplotlib.pyplot.figure\n",
      " 3. Calling matplotlib.pyplot.gca\n",
      " 4. |---Calling matplotlib.pyplot.gcf\n",
      " 5. |---Returning <Figure:4387758160> from matplotlib.pyplot.gcf\n",
      " 6. |---Calling matplotlib.figure.gca\n",
      " 7. |-------Calling matplotlib.figure.add_subplot\n",
      " 8. |-------Returning <AxesSubplot:4387654608> from matplotlib.figure.add_subplot\n",
      " 9. |---Returning <AxesSubplot:4387654608> from matplotlib.figure.gca\n",
      "10. Returning <AxesSubplot:4387654608> from matplotlib.pyplot.gca\n"
     ]
    },
    {
     "data": {
      "image/png": "[encoded data removed]",
      "text/plain": [
       "<matplotlib.figure.Figure at 0x10587e050>"
      ]
     },
     "metadata": {},
     "output_type": "display_data"
    },
    {
     "name": "stdout",
     "output_type": "stream",
     "text": [
      "11. Calling matplotlib.pyplot.close\n",
      "12. Returning <NoneType:4296531008> from matplotlib.pyplot.close\n",
      "-------------------------------------------------------------------------------\n",
      " 1. Calling matplotlib.pyplot.figure\n",
      " 2. Returning <Figure:4394188432> from matplotlib.pyplot.figure\n",
      " 3. Calling matplotlib.pyplot.gca\n",
      " 4. |---Calling matplotlib.pyplot.gcf\n",
      " 5. |---Returning <Figure:4394188432> from matplotlib.pyplot.gcf\n",
      " 6. |---Calling matplotlib.figure.gca\n",
      " 7. |-------Calling matplotlib.figure.add_subplot\n",
      " 8. |-------Returning <AxesSubplot:4394071632> from matplotlib.figure.add_subplot\n",
      " 9. |---Returning <AxesSubplot:4394071632> from matplotlib.figure.gca\n",
      "10. Returning <AxesSubplot:4394071632> from matplotlib.pyplot.gca\n"
     ]
    },
    {
     "data": {
      "image/png": "[encoded data removed]",
      "text/plain": [
       "<matplotlib.figure.Figure at 0x105e9fe90>"
      ]
     },
     "metadata": {},
     "output_type": "display_data"
    },
    {
     "name": "stdout",
     "output_type": "stream",
     "text": [
      "11. Calling matplotlib.pyplot.close\n",
      "12. Returning <NoneType:4296531008> from matplotlib.pyplot.close\n",
      "-------------------------------------------------------------------------------\n",
      " 1. Calling matplotlib.pyplot.figure\n",
      " 2. Returning <Figure:4424086224> from matplotlib.pyplot.figure\n",
      " 3. Calling matplotlib.pyplot.gca\n",
      " 4. |---Calling matplotlib.pyplot.gcf\n",
      " 5. |---Returning <Figure:4424086224> from matplotlib.pyplot.gcf\n",
      " 6. |---Calling matplotlib.figure.gca\n",
      " 7. |-------Calling matplotlib.figure.add_subplot\n",
      " 8. |-------Returning <AxesSubplot:4387493456> from matplotlib.figure.add_subplot\n",
      " 9. |---Returning <AxesSubplot:4387493456> from matplotlib.figure.gca\n",
      "10. Returning <AxesSubplot:4387493456> from matplotlib.pyplot.gca\n"
     ]
    },
    {
     "data": {
      "image/png": "[encoded data removed]",
      "text/plain": [
       "<matplotlib.figure.Figure at 0x107b232d0>"
      ]
     },
     "metadata": {},
     "output_type": "display_data"
    },
    {
     "name": "stdout",
     "output_type": "stream",
     "text": [
      "11. Calling matplotlib.pyplot.close\n",
      "12. Returning <NoneType:4296531008> from matplotlib.pyplot.close\n",
      "-------------------------------------------------------------------------------\n",
      " 1. Calling matplotlib.pyplot.figure\n",
      " 2. Returning <Figure:4405165456> from matplotlib.pyplot.figure\n",
      " 3. Calling matplotlib.pyplot.gca\n",
      " 4. |---Calling matplotlib.pyplot.gcf\n",
      " 5. |---Returning <Figure:4405165456> from matplotlib.pyplot.gcf\n",
      " 6. |---Calling matplotlib.figure.gca\n",
      " 7. |-------Calling matplotlib.figure.add_subplot\n",
      " 8. |-------Returning <AxesSubplot:4405213648> from matplotlib.figure.add_subplot\n",
      " 9. |---Returning <AxesSubplot:4405213648> from matplotlib.figure.gca\n",
      "10. Returning <AxesSubplot:4405213648> from matplotlib.pyplot.gca\n"
     ]
    },
    {
     "data": {
      "image/png": "[encoded data removed]",
      "text/plain": [
       "<matplotlib.figure.Figure at 0x106917d90>"
      ]
     },
     "metadata": {},
     "output_type": "display_data"
    },
    {
     "name": "stdout",
     "output_type": "stream",
     "text": [
      "11. Calling matplotlib.pyplot.close\n",
      "12. Returning <NoneType:4296531008> from matplotlib.pyplot.close\n",
      "-------------------------------------------------------------------------------\n",
      " 1. Calling matplotlib.pyplot.figure\n",
      " 2. Returning <Figure:4390208208> from matplotlib.pyplot.figure\n",
      " 3. Calling matplotlib.pyplot.gca\n",
      " 4. |---Calling matplotlib.pyplot.gcf\n",
      " 5. |---Returning <Figure:4390208208> from matplotlib.pyplot.gcf\n",
      " 6. |---Calling matplotlib.figure.gca\n",
      " 7. |-------Calling matplotlib.figure.add_subplot\n",
      " 8. |-------Returning <AxesSubplot:4426939920> from matplotlib.figure.add_subplot\n",
      " 9. |---Returning <AxesSubplot:4426939920> from matplotlib.figure.gca\n",
      "10. Returning <AxesSubplot:4426939920> from matplotlib.pyplot.gca\n"
     ]
    },
    {
     "data": {
      "image/png": "[encoded data removed]",
      "text/plain": [
       "<matplotlib.figure.Figure at 0x105ad42d0>"
      ]
     },
     "metadata": {},
     "output_type": "display_data"
    },
    {
     "name": "stdout",
     "output_type": "stream",
     "text": [
      "11. Calling matplotlib.pyplot.close\n",
      "12. Returning <NoneType:4296531008> from matplotlib.pyplot.close\n",
      "-------------------------------------------------------------------------------\n",
      " 1. Calling matplotlib.pyplot.figure\n",
      " 2. Returning <Figure:4422567952> from matplotlib.pyplot.figure\n",
      " 3. Calling matplotlib.pyplot.gca\n",
      " 4. |---Calling matplotlib.pyplot.gcf\n",
      " 5. |---Returning <Figure:4422567952> from matplotlib.pyplot.gcf\n",
      " 6. |---Calling matplotlib.figure.gca\n",
      " 7. |-------Calling matplotlib.figure.add_subplot\n",
      " 8. |-------Returning <AxesSubplot:4405165008> from matplotlib.figure.add_subplot\n",
      " 9. |---Returning <AxesSubplot:4405165008> from matplotlib.figure.gca\n",
      "10. Returning <AxesSubplot:4405165008> from matplotlib.pyplot.gca\n"
     ]
    },
    {
     "data": {
      "image/png": "[encoded data removed]",
      "text/plain": [
       "<matplotlib.figure.Figure at 0x1079b0810>"
      ]
     },
     "metadata": {},
     "output_type": "display_data"
    },
    {
     "name": "stdout",
     "output_type": "stream",
     "text": [
      "11. Calling matplotlib.pyplot.close\n",
      "12. Returning <NoneType:4296531008> from matplotlib.pyplot.close\n",
      "-------------------------------------------------------------------------------\n",
      " 1. Calling matplotlib.pyplot.figure\n",
      " 2. Returning <Figure:4408338960> from matplotlib.pyplot.figure\n",
      " 3. Calling matplotlib.pyplot.gca\n",
      " 4. |---Calling matplotlib.pyplot.gcf\n",
      " 5. |---Returning <Figure:4408338960> from matplotlib.pyplot.gcf\n",
      " 6. |---Calling matplotlib.figure.gca\n",
      " 7. |-------Calling matplotlib.figure.add_subplot\n",
      " 8. |-------Returning <AxesSubplot:4408879504> from matplotlib.figure.add_subplot\n",
      " 9. |---Returning <AxesSubplot:4408879504> from matplotlib.figure.gca\n",
      "10. Returning <AxesSubplot:4408879504> from matplotlib.pyplot.gca\n"
     ]
    },
    {
     "data": {
      "image/png": "[encoded data removed]",
      "text/plain": [
       "<matplotlib.figure.Figure at 0x106c1ea10>"
      ]
     },
     "metadata": {},
     "output_type": "display_data"
    },
    {
     "name": "stdout",
     "output_type": "stream",
     "text": [
      "11. Calling matplotlib.pyplot.close\n",
      "12. Returning <NoneType:4296531008> from matplotlib.pyplot.close\n",
      "-------------------------------------------------------------------------------\n",
      " 1. Calling matplotlib.pyplot.figure\n",
      " 2. Returning <Figure:4390256080> from matplotlib.pyplot.figure\n",
      " 3. Calling matplotlib.pyplot.gca\n",
      " 4. |---Calling matplotlib.pyplot.gcf\n",
      " 5. |---Returning <Figure:4390256080> from matplotlib.pyplot.gcf\n",
      " 6. |---Calling matplotlib.figure.gca\n",
      " 7. |-------Calling matplotlib.figure.add_subplot\n",
      " 8. |-------Returning <AxesSubplot:4402700944> from matplotlib.figure.add_subplot\n",
      " 9. |---Returning <AxesSubplot:4402700944> from matplotlib.figure.gca\n",
      "10. Returning <AxesSubplot:4402700944> from matplotlib.pyplot.gca\n"
     ]
    },
    {
     "data": {
      "image/png": "[encoded data removed]",
      "text/plain": [
       "<matplotlib.figure.Figure at 0x105adfdd0>"
      ]
     },
     "metadata": {},
     "output_type": "display_data"
    },
    {
     "name": "stdout",
     "output_type": "stream",
     "text": [
      "11. Calling matplotlib.pyplot.close\n",
      "12. Returning <NoneType:4296531008> from matplotlib.pyplot.close\n",
      "-------------------------------------------------------------------------------\n",
      " 1. Calling matplotlib.pyplot.figure\n",
      " 2. Returning <Figure:4422667216> from matplotlib.pyplot.figure\n",
      " 3. Calling matplotlib.pyplot.gca\n",
      " 4. |---Calling matplotlib.pyplot.gcf\n",
      " 5. |---Returning <Figure:4422667216> from matplotlib.pyplot.gcf\n",
      " 6. |---Calling matplotlib.figure.gca\n",
      " 7. |-------Calling matplotlib.figure.add_subplot\n",
      " 8. |-------Returning <AxesSubplot:4410510096> from matplotlib.figure.add_subplot\n",
      " 9. |---Returning <AxesSubplot:4410510096> from matplotlib.figure.gca\n",
      "10. Returning <AxesSubplot:4410510096> from matplotlib.pyplot.gca\n"
     ]
    },
    {
     "data": {
      "image/png": "[encoded data removed]",
      "text/plain": [
       "<matplotlib.figure.Figure at 0x1079c8bd0>"
      ]
     },
     "metadata": {},
     "output_type": "display_data"
    },
    {
     "name": "stdout",
     "output_type": "stream",
     "text": [
      "11. Calling matplotlib.pyplot.close\n",
      "12. Returning <NoneType:4296531008> from matplotlib.pyplot.close\n",
      "-------------------------------------------------------------------------------\n",
      " 1. Calling matplotlib.pyplot.figure\n",
      " 2. Returning <Figure:4409316944> from matplotlib.pyplot.figure\n",
      " 3. Calling matplotlib.pyplot.gca\n",
      " 4. |---Calling matplotlib.pyplot.gcf\n",
      " 5. |---Returning <Figure:4409316944> from matplotlib.pyplot.gcf\n",
      " 6. |---Calling matplotlib.figure.gca\n",
      " 7. |-------Calling matplotlib.figure.add_subplot\n",
      " 8. |-------Returning <AxesSubplot:4394108816> from matplotlib.figure.add_subplot\n",
      " 9. |---Returning <AxesSubplot:4394108816> from matplotlib.figure.gca\n",
      "10. Returning <AxesSubplot:4394108816> from matplotlib.pyplot.gca\n"
     ]
    },
    {
     "data": {
      "image/png": "[encoded data removed]",
      "text/plain": [
       "<matplotlib.figure.Figure at 0x106d0d650>"
      ]
     },
     "metadata": {},
     "output_type": "display_data"
    },
    {
     "name": "stdout",
     "output_type": "stream",
     "text": [
      "11. Calling matplotlib.pyplot.close\n",
      "12. Returning <NoneType:4296531008> from matplotlib.pyplot.close\n",
      "-------------------------------------------------------------------------------\n",
      " 1. Calling matplotlib.pyplot.figure\n",
      " 2. Returning <Figure:4412013456> from matplotlib.pyplot.figure\n",
      " 3. Calling matplotlib.pyplot.gca\n",
      " 4. |---Calling matplotlib.pyplot.gcf\n",
      " 5. |---Returning <Figure:4412013456> from matplotlib.pyplot.gcf\n",
      " 6. |---Calling matplotlib.figure.gca\n",
      " 7. |-------Calling matplotlib.figure.add_subplot\n",
      " 8. |-------Returning <AxesSubplot:4412158736> from matplotlib.figure.add_subplot\n",
      " 9. |---Returning <AxesSubplot:4412158736> from matplotlib.figure.gca\n",
      "10. Returning <AxesSubplot:4412158736> from matplotlib.pyplot.gca\n"
     ]
    },
    {
     "data": {
      "image/png": "[encoded data removed]",
      "text/plain": [
       "<matplotlib.figure.Figure at 0x106f9fb90>"
      ]
     },
     "metadata": {},
     "output_type": "display_data"
    },
    {
     "name": "stdout",
     "output_type": "stream",
     "text": [
      "11. Calling matplotlib.pyplot.close\n",
      "12. Returning <NoneType:4296531008> from matplotlib.pyplot.close\n",
      "-------------------------------------------------------------------------------\n",
      " 1. Calling matplotlib.pyplot.figure\n",
      " 2. Returning <Figure:4409753104> from matplotlib.pyplot.figure\n",
      " 3. Calling matplotlib.pyplot.gca\n",
      " 4. |---Calling matplotlib.pyplot.gcf\n",
      " 5. |---Returning <Figure:4409753104> from matplotlib.pyplot.gcf\n",
      " 6. |---Calling matplotlib.figure.gca\n",
      " 7. |-------Calling matplotlib.figure.add_subplot\n",
      " 8. |-------Returning <AxesSubplot:4409535056> from matplotlib.figure.add_subplot\n",
      " 9. |---Returning <AxesSubplot:4409535056> from matplotlib.figure.gca\n",
      "10. Returning <AxesSubplot:4409535056> from matplotlib.pyplot.gca\n"
     ]
    },
    {
     "data": {
      "image/png": "[encoded data removed]",
      "text/plain": [
       "<matplotlib.figure.Figure at 0x106d77e10>"
      ]
     },
     "metadata": {},
     "output_type": "display_data"
    },
    {
     "name": "stdout",
     "output_type": "stream",
     "text": [
      "11. Calling matplotlib.pyplot.close\n",
      "12. Returning <NoneType:4296531008> from matplotlib.pyplot.close\n",
      "-------------------------------------------------------------------------------\n",
      " 1. Calling matplotlib.pyplot.figure\n",
      " 2. Returning <Figure:4390472528> from matplotlib.pyplot.figure\n",
      " 3. Calling matplotlib.pyplot.gca\n",
      " 4. |---Calling matplotlib.pyplot.gcf\n",
      " 5. |---Returning <Figure:4390472528> from matplotlib.pyplot.gcf\n",
      " 6. |---Calling matplotlib.figure.gca\n",
      " 7. |-------Calling matplotlib.figure.add_subplot\n",
      " 8. |-------Returning <AxesSubplot:4390430992> from matplotlib.figure.add_subplot\n",
      " 9. |---Returning <AxesSubplot:4390430992> from matplotlib.figure.gca\n",
      "10. Returning <AxesSubplot:4390430992> from matplotlib.pyplot.gca\n"
     ]
    },
    {
     "data": {
      "image/png": "[encoded data removed]",
      "text/plain": [
       "<matplotlib.figure.Figure at 0x105b14b50>"
      ]
     },
     "metadata": {},
     "output_type": "display_data"
    },
    {
     "name": "stdout",
     "output_type": "stream",
     "text": [
      "11. Calling matplotlib.pyplot.close\n",
      "12. Returning <NoneType:4296531008> from matplotlib.pyplot.close\n",
      "-------------------------------------------------------------------------------\n",
      " 1. Calling matplotlib.pyplot.figure\n",
      " 2. Returning <Figure:4409623952> from matplotlib.pyplot.figure\n",
      " 3. Calling matplotlib.pyplot.gca\n",
      " 4. |---Calling matplotlib.pyplot.gcf\n",
      " 5. |---Returning <Figure:4409623952> from matplotlib.pyplot.gcf\n",
      " 6. |---Calling matplotlib.figure.gca\n",
      " 7. |-------Calling matplotlib.figure.add_subplot\n",
      " 8. |-------Returning <AxesSubplot:4422487312> from matplotlib.figure.add_subplot\n",
      " 9. |---Returning <AxesSubplot:4422487312> from matplotlib.figure.gca\n",
      "10. Returning <AxesSubplot:4422487312> from matplotlib.pyplot.gca\n"
     ]
    },
    {
     "data": {
      "image/png": "[encoded data removed]",
      "text/plain": [
       "<matplotlib.figure.Figure at 0x106d58590>"
      ]
     },
     "metadata": {},
     "output_type": "display_data"
    },
    {
     "name": "stdout",
     "output_type": "stream",
     "text": [
      "11. Calling matplotlib.pyplot.close\n",
      "12. Returning <NoneType:4296531008> from matplotlib.pyplot.close\n",
      "-------------------------------------------------------------------------------\n",
      " 1. Calling matplotlib.pyplot.figure\n",
      " 2. Returning <Figure:4402488720> from matplotlib.pyplot.figure\n",
      " 3. Calling matplotlib.pyplot.gca\n",
      " 4. |---Calling matplotlib.pyplot.gcf\n",
      " 5. |---Returning <Figure:4402488720> from matplotlib.pyplot.gcf\n",
      " 6. |---Calling matplotlib.figure.gca\n",
      " 7. |-------Calling matplotlib.figure.add_subplot\n",
      " 8. |-------Returning <AxesSubplot:4427746128> from matplotlib.figure.add_subplot\n",
      " 9. |---Returning <AxesSubplot:4427746128> from matplotlib.figure.gca\n",
      "10. Returning <AxesSubplot:4427746128> from matplotlib.pyplot.gca\n"
     ]
    },
    {
     "data": {
      "image/png": "[encoded data removed]",
      "text/plain": [
       "<matplotlib.figure.Figure at 0x10668a590>"
      ]
     },
     "metadata": {},
     "output_type": "display_data"
    },
    {
     "name": "stdout",
     "output_type": "stream",
     "text": [
      "11. Calling matplotlib.pyplot.close\n",
      "12. Returning <NoneType:4296531008> from matplotlib.pyplot.close\n",
      "-------------------------------------------------------------------------------\n"
     ]
    }
   ],
   "source": [
    "for i in range(21):\n",
    "    plt.figure()\n",
    "    plt.hist(np.random.randn(1000))\n",
    "    plt.show()\n",
    "    print '-'*79\n",
    "    line = 0"
   ]
  },
  {
   "cell_type": "code",
   "execution_count": 14,
   "metadata": {
    "collapsed": false
   },
   "outputs": [
    {
     "data": {
      "text/plain": [
       "[]"
      ]
     },
     "execution_count": 14,
     "metadata": {},
     "output_type": "execute_result"
    }
   ],
   "source": [
    "plt.get_fignums()"
   ]
  }
 ],
 "metadata": {
  "kernelspec": {
   "display_name": "Python 2",
   "language": "python",
   "name": "python2"
  },
  "language_info": {
   "codemirror_mode": {
    "name": "ipython",
    "version": 2
   },
   "file_extension": ".py",
   "mimetype": "text/x-python",
   "name": "python",
   "nbconvert_exporter": "python",
   "pygments_lexer": "ipython2",
   "version": "2.7.10"
  }
 },
 "nbformat": 4,
 "nbformat_minor": 0
}
