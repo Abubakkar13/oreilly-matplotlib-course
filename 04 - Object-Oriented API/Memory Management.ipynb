{
 "cells": [
  {
   "cell_type": "code",
   "execution_count": 1,
   "metadata": {
    "collapsed": false
   },
   "outputs": [],
   "source": [
    "%matplotlib inline\n",
    "\n",
    "import matplotlib.pyplot as plt\n",
    "import numpy as np\n",
    "\n",
    "plt.ioff()"
   ]
  },
  {
   "cell_type": "markdown",
   "metadata": {},
   "source": [
    "## Memory Management"
   ]
  },
  {
   "cell_type": "code",
   "execution_count": 2,
   "metadata": {
    "collapsed": true
   },
   "outputs": [],
   "source": [
    "import warnings\n",
    "warnings.simplefilter(action=\"always\", category=RuntimeWarning)"
   ]
  },
  {
   "cell_type": "code",
   "execution_count": 3,
   "metadata": {
    "collapsed": false
   },
   "outputs": [
    {
     "name": "stderr",
     "output_type": "stream",
     "text": [
      "/Users/croach/anaconda/envs/mpl/lib/python2.7/site-packages/matplotlib/pyplot.py:512: RuntimeWarning: More than 20 figures have been opened. Figures created through the pyplot interface (`matplotlib.pyplot.figure`) are retained until explicitly closed and may consume too much memory. (To control this warning, see the rcParam `figure.max_open_warning`).\n",
      "  max_open_warning, RuntimeWarning)\n"
     ]
    }
   ],
   "source": [
    "for i in range(21):\n",
    "    plt.figure()\n",
    "    plt.hist(np.random.randn(1000))"
   ]
  },
  {
   "cell_type": "code",
   "execution_count": 4,
   "metadata": {
    "collapsed": false
   },
   "outputs": [
    {
     "data": {
      "text/plain": [
       "[1, 2, 3, 4, 5, 6, 7, 8, 9, 10, 11, 12, 13, 14, 15, 16, 17, 18, 19, 20, 21]"
      ]
     },
     "execution_count": 4,
     "metadata": {},
     "output_type": "execute_result"
    }
   ],
   "source": [
    "plt.get_fignums()"
   ]
  },
  {
   "cell_type": "markdown",
   "metadata": {},
   "source": [
    "### Why does this happen?\n",
    "\n",
    "By default, the `pylot` plotting functions do not close figures as they're used. Instead, `pyplot` registers an event listener that destroys all figures in memory when your script comes to an end. While the script is running, however, the `pyplot` interface does actively manage memory by reusing a single figure over and over again. Basically, every time a figure is rendered (output to a file or displayed in a window) `pyplot` will clear the figure and reuse it for the next set of plotting commands. It grabs the current figure from the top of global stack, and it always checks the stack for a figure before it creates a new one. If the user calls the `figure` function directly, they bypass this check and create a new figure and add it to the top of the stack, and `pyplot` just uses that whenever plotting commands are called. This means that each time the figure "
   ]
  },
  {
   "cell_type": "code",
   "execution_count": 5,
   "metadata": {
    "collapsed": false
   },
   "outputs": [],
   "source": [
    "plt.close(\"all\")"
   ]
  },
  {
   "cell_type": "code",
   "execution_count": 6,
   "metadata": {
    "collapsed": false
   },
   "outputs": [],
   "source": [
    "for i in range(21):\n",
    "    plt.figure()\n",
    "    plt.hist(np.random.randn(1000))\n",
    "    plt.close()"
   ]
  },
  {
   "cell_type": "markdown",
   "metadata": {},
   "source": [
    "Now we no longer get a warning because we are closing each figure manually after we're finished with it."
   ]
  },
  {
   "cell_type": "code",
   "execution_count": 7,
   "metadata": {
    "collapsed": false
   },
   "outputs": [
    {
     "data": {
      "text/plain": [
       "[]"
      ]
     },
     "execution_count": 7,
     "metadata": {},
     "output_type": "execute_result"
    }
   ],
   "source": [
    "plt.get_fignums()"
   ]
  },
  {
   "cell_type": "markdown",
   "metadata": {},
   "source": [
    "However, for the interactive backends (e.g., UI and Jupyter notebook), the `_pylab_helpers.destroy` function is called once the figure is shown. So, we end up with only 1 active figure in the queue at all times. So, every at every iteration, we call the `figure` function to create a new figure, show it, then close it and start all over. So, every iteration has a brand new figure.\n",
    "\n",
    "NOTE TO SELF: not sure if I want to use the logger function again on this example. My main reasoning behind it was to show that the close function gets called and it's useful to see the figure being created again every time through the loop, but not sure if it adds value, or if it's just a bit too cluttered."
   ]
  },
  {
   "cell_type": "code",
   "execution_count": 8,
   "metadata": {
    "collapsed": true
   },
   "outputs": [],
   "source": [
    "class PrintlnFunc(object):\n",
    "    def __init__(self):\n",
    "        self.line = 1\n",
    "    def __call__(self, msg):\n",
    "        print \"%2d. %s\" % (self.line, msg)\n",
    "        self.line += 1\n",
    "    def reset(self):\n",
    "        self.line = 1\n",
    "println = PrintlnFunc()\n",
    "\n",
    "class Logger(object):\n",
    "    \"\"\"Wraps a function in a callable that prints call information\n",
    "    \"\"\"\n",
    "    level = 0\n",
    "\n",
    "    def __init__(self, fn):\n",
    "        self.fn = fn\n",
    "\n",
    "    def __call__(self, *args, **kwargs):\n",
    "        # Create the padding string according to the current level in the call\n",
    "        # stack, and increase the level since we're about to pop another \n",
    "        # function onto the stack.\n",
    "        padding = \"|\" + \"-\" * (Logger.level * 4 - 1) if Logger.level > 0 else \"\"\n",
    "        Logger.level += 1\n",
    "\n",
    "        # Print calling information, call the function, and print returning info\n",
    "        println(\"%sCalling %s.%s\" % (padding, self.fn.__module__, self.fn.__name__))\n",
    "        result = self.fn(*args, **kwargs)\n",
    "        println(\"%sReturning <%s:%s> from %s.%s\" % \\\n",
    "            (padding, result.__class__.__name__, id(result), self.fn.__module__, self.fn.__name__))\n",
    "\n",
    "        # Decrease the call stack level, since we are returning.\n",
    "        Logger.level -= 1\n",
    "        return result\n",
    "    \n",
    "# Decorate several methods with the logger\n",
    "plt.gca = Logger(plt.gca)\n",
    "plt.gcf = Logger(plt.gcf)\n",
    "plt.figure = Logger(plt.figure)\n",
    "plt.close = Logger(plt.close)\n",
    "\n",
    "# To decorate the methods on the Figure class, we have to wrap \n",
    "# our logger in a MethodType instance.\n",
    "import types\n",
    "\n",
    "# We're logging calls to the add_subplot method on the Figure\n",
    "# class because this is where new Axes objects are created.\n",
    "from matplotlib.figure import Figure\n",
    "Figure.gca = types.MethodType(Logger(Figure.gca), None, Figure)\n",
    "Figure.add_subplot = types.MethodType(Logger(Figure.add_subplot), None, Figure)"
   ]
  },
  {
   "cell_type": "code",
   "execution_count": 9,
   "metadata": {
    "collapsed": false
   },
   "outputs": [
    {
     "name": "stdout",
     "output_type": "stream",
     "text": [
      " 1. Calling matplotlib.pyplot.close\n",
      " 2. Returning <NoneType:4296531008> from matplotlib.pyplot.close\n"
     ]
    }
   ],
   "source": [
    "plt.close(\"all\")"
   ]
  },
  {
   "cell_type": "code",
   "execution_count": 10,
   "metadata": {
    "collapsed": false,
    "scrolled": true
   },
   "outputs": [
    {
     "name": "stdout",
     "output_type": "stream",
     "text": [
      " 3. Calling matplotlib.pyplot.figure\n",
      " 4. Returning <Figure:4420018704> from matplotlib.pyplot.figure\n",
      " 5. Calling matplotlib.pyplot.gca\n",
      " 6. |---Calling matplotlib.pyplot.gcf\n",
      " 7. |---Returning <Figure:4420018704> from matplotlib.pyplot.gcf\n",
      " 8. |---Calling matplotlib.figure.gca\n",
      " 9. |-------Calling matplotlib.figure.add_subplot\n",
      "10. |-------Returning <AxesSubplot:4419457104> from matplotlib.figure.add_subplot\n",
      "11. |---Returning <AxesSubplot:4419457104> from matplotlib.figure.gca\n",
      "12. Returning <AxesSubplot:4419457104> from matplotlib.pyplot.gca\n"
     ]
    },
    {
     "data": {
      "image/png": "[encoded data removed]",
      "text/plain": [
       "<matplotlib.figure.Figure at 0x107742210>"
      ]
     },
     "metadata": {},
     "output_type": "display_data"
    },
    {
     "name": "stdout",
     "output_type": "stream",
     "text": [
      "13. Calling matplotlib.pyplot.close\n",
      "14. Returning <NoneType:4296531008> from matplotlib.pyplot.close\n",
      "-------------------------------------------------------------------------------\n",
      " 1. Calling matplotlib.pyplot.figure\n",
      " 2. Returning <Figure:4405616208> from matplotlib.pyplot.figure\n",
      " 3. Calling matplotlib.pyplot.gca\n",
      " 4. |---Calling matplotlib.pyplot.gcf\n",
      " 5. |---Returning <Figure:4405616208> from matplotlib.pyplot.gcf\n",
      " 6. |---Calling matplotlib.figure.gca\n",
      " 7. |-------Calling matplotlib.figure.add_subplot\n",
      " 8. |-------Returning <AxesSubplot:4403532368> from matplotlib.figure.add_subplot\n",
      " 9. |---Returning <AxesSubplot:4403532368> from matplotlib.figure.gca\n",
      "10. Returning <AxesSubplot:4403532368> from matplotlib.pyplot.gca\n"
     ]
    },
    {
     "data": {
      "image/png": "[encoded data removed]",
      "text/plain": [
       "<matplotlib.figure.Figure at 0x106985e50>"
      ]
     },
     "metadata": {},
     "output_type": "display_data"
    },
    {
     "name": "stdout",
     "output_type": "stream",
     "text": [
      "11. Calling matplotlib.pyplot.close\n",
      "12. Returning <NoneType:4296531008> from matplotlib.pyplot.close\n",
      "-------------------------------------------------------------------------------\n",
      " 1. Calling matplotlib.pyplot.figure\n",
      " 2. Returning <Figure:4419809488> from matplotlib.pyplot.figure\n",
      " 3. Calling matplotlib.pyplot.gca\n",
      " 4. |---Calling matplotlib.pyplot.gcf\n",
      " 5. |---Returning <Figure:4419809488> from matplotlib.pyplot.gcf\n",
      " 6. |---Calling matplotlib.figure.gca\n",
      " 7. |-------Calling matplotlib.figure.add_subplot\n",
      " 8. |-------Returning <AxesSubplot:4419868112> from matplotlib.figure.add_subplot\n",
      " 9. |---Returning <AxesSubplot:4419868112> from matplotlib.figure.gca\n",
      "10. Returning <AxesSubplot:4419868112> from matplotlib.pyplot.gca\n"
     ]
    },
    {
     "data": {
      "image/png": "[encoded data removed]",
      "text/plain": [
       "<matplotlib.figure.Figure at 0x10770f0d0>"
      ]
     },
     "metadata": {},
     "output_type": "display_data"
    },
    {
     "name": "stdout",
     "output_type": "stream",
     "text": [
      "11. Calling matplotlib.pyplot.close\n",
      "12. Returning <NoneType:4296531008> from matplotlib.pyplot.close\n",
      "-------------------------------------------------------------------------------\n",
      " 1. Calling matplotlib.pyplot.figure\n",
      " 2. Returning <Figure:4417989648> from matplotlib.pyplot.figure\n",
      " 3. Calling matplotlib.pyplot.gca\n",
      " 4. |---Calling matplotlib.pyplot.gcf\n",
      " 5. |---Returning <Figure:4417989648> from matplotlib.pyplot.gcf\n",
      " 6. |---Calling matplotlib.figure.gca\n",
      " 7. |-------Calling matplotlib.figure.add_subplot\n",
      " 8. |-------Returning <AxesSubplot:4400646864> from matplotlib.figure.add_subplot\n",
      " 9. |---Returning <AxesSubplot:4400646864> from matplotlib.figure.gca\n",
      "10. Returning <AxesSubplot:4400646864> from matplotlib.pyplot.gca\n"
     ]
    },
    {
     "data": {
      "image/png": "[encoded data removed]",
      "text/plain": [
       "<matplotlib.figure.Figure at 0x107552c10>"
      ]
     },
     "metadata": {},
     "output_type": "display_data"
    },
    {
     "name": "stdout",
     "output_type": "stream",
     "text": [
      "11. Calling matplotlib.pyplot.close\n",
      "12. Returning <NoneType:4296531008> from matplotlib.pyplot.close\n",
      "-------------------------------------------------------------------------------\n",
      " 1. Calling matplotlib.pyplot.figure\n",
      " 2. Returning <Figure:4426296976> from matplotlib.pyplot.figure\n",
      " 3. Calling matplotlib.pyplot.gca\n",
      " 4. |---Calling matplotlib.pyplot.gcf\n",
      " 5. |---Returning <Figure:4426296976> from matplotlib.pyplot.gcf\n",
      " 6. |---Calling matplotlib.figure.gca\n",
      " 7. |-------Calling matplotlib.figure.add_subplot\n",
      " 8. |-------Returning <AxesSubplot:4426085264> from matplotlib.figure.add_subplot\n",
      " 9. |---Returning <AxesSubplot:4426085264> from matplotlib.figure.gca\n",
      "10. Returning <AxesSubplot:4426085264> from matplotlib.pyplot.gca\n"
     ]
    },
    {
     "data": {
      "image/png": "[encoded data removed]",
      "text/plain": [
       "<matplotlib.figure.Figure at 0x107d3ee90>"
      ]
     },
     "metadata": {},
     "output_type": "display_data"
    },
    {
     "name": "stdout",
     "output_type": "stream",
     "text": [
      "11. Calling matplotlib.pyplot.close\n",
      "12. Returning <NoneType:4296531008> from matplotlib.pyplot.close\n",
      "-------------------------------------------------------------------------------\n",
      " 1. Calling matplotlib.pyplot.figure\n",
      " 2. Returning <Figure:4404215568> from matplotlib.pyplot.figure\n",
      " 3. Calling matplotlib.pyplot.gca\n",
      " 4. |---Calling matplotlib.pyplot.gcf\n",
      " 5. |---Returning <Figure:4404215568> from matplotlib.pyplot.gcf\n",
      " 6. |---Calling matplotlib.figure.gca\n",
      " 7. |-------Calling matplotlib.figure.add_subplot\n",
      " 8. |-------Returning <AxesSubplot:4399879952> from matplotlib.figure.add_subplot\n",
      " 9. |---Returning <AxesSubplot:4399879952> from matplotlib.figure.gca\n",
      "10. Returning <AxesSubplot:4399879952> from matplotlib.pyplot.gca\n"
     ]
    },
    {
     "data": {
      "image/png": "[encoded data removed]",
      "text/plain": [
       "<matplotlib.figure.Figure at 0x10682ff10>"
      ]
     },
     "metadata": {},
     "output_type": "display_data"
    },
    {
     "name": "stdout",
     "output_type": "stream",
     "text": [
      "11. Calling matplotlib.pyplot.close\n",
      "12. Returning <NoneType:4296531008> from matplotlib.pyplot.close\n",
      "-------------------------------------------------------------------------------\n",
      " 1. Calling matplotlib.pyplot.figure\n",
      " 2. Returning <Figure:4410788880> from matplotlib.pyplot.figure\n",
      " 3. Calling matplotlib.pyplot.gca\n",
      " 4. |---Calling matplotlib.pyplot.gcf\n",
      " 5. |---Returning <Figure:4410788880> from matplotlib.pyplot.gcf\n",
      " 6. |---Calling matplotlib.figure.gca\n",
      " 7. |-------Calling matplotlib.figure.add_subplot\n",
      " 8. |-------Returning <AxesSubplot:4410361168> from matplotlib.figure.add_subplot\n",
      " 9. |---Returning <AxesSubplot:4410361168> from matplotlib.figure.gca\n",
      "10. Returning <AxesSubplot:4410361168> from matplotlib.pyplot.gca\n"
     ]
    },
    {
     "data": {
      "image/png": "[encoded data removed]",
      "text/plain": [
       "<matplotlib.figure.Figure at 0x106e74c10>"
      ]
     },
     "metadata": {},
     "output_type": "display_data"
    },
    {
     "name": "stdout",
     "output_type": "stream",
     "text": [
      "11. Calling matplotlib.pyplot.close\n",
      "12. Returning <NoneType:4296531008> from matplotlib.pyplot.close\n",
      "-------------------------------------------------------------------------------\n",
      " 1. Calling matplotlib.pyplot.figure\n",
      " 2. Returning <Figure:4417642256> from matplotlib.pyplot.figure\n",
      " 3. Calling matplotlib.pyplot.gca\n",
      " 4. |---Calling matplotlib.pyplot.gcf\n",
      " 5. |---Returning <Figure:4417642256> from matplotlib.pyplot.gcf\n",
      " 6. |---Calling matplotlib.figure.gca\n",
      " 7. |-------Calling matplotlib.figure.add_subplot\n",
      " 8. |-------Returning <AxesSubplot:4414837264> from matplotlib.figure.add_subplot\n",
      " 9. |---Returning <AxesSubplot:4414837264> from matplotlib.figure.gca\n",
      "10. Returning <AxesSubplot:4414837264> from matplotlib.pyplot.gca\n"
     ]
    },
    {
     "data": {
      "image/png": "[encoded data removed]",
      "text/plain": [
       "<matplotlib.figure.Figure at 0x1074fdf10>"
      ]
     },
     "metadata": {},
     "output_type": "display_data"
    },
    {
     "name": "stdout",
     "output_type": "stream",
     "text": [
      "11. Calling matplotlib.pyplot.close\n",
      "12. Returning <NoneType:4296531008> from matplotlib.pyplot.close\n",
      "-------------------------------------------------------------------------------\n",
      " 1. Calling matplotlib.pyplot.figure\n",
      " 2. Returning <Figure:4410754896> from matplotlib.pyplot.figure\n",
      " 3. Calling matplotlib.pyplot.gca\n",
      " 4. |---Calling matplotlib.pyplot.gcf\n",
      " 5. |---Returning <Figure:4410754896> from matplotlib.pyplot.gcf\n",
      " 6. |---Calling matplotlib.figure.gca\n",
      " 7. |-------Calling matplotlib.figure.add_subplot\n",
      " 8. |-------Returning <AxesSubplot:4415430352> from matplotlib.figure.add_subplot\n",
      " 9. |---Returning <AxesSubplot:4415430352> from matplotlib.figure.gca\n",
      "10. Returning <AxesSubplot:4415430352> from matplotlib.pyplot.gca\n"
     ]
    },
    {
     "data": {
      "image/png": "[encoded data removed]",
      "text/plain": [
       "<matplotlib.figure.Figure at 0x106e6c750>"
      ]
     },
     "metadata": {},
     "output_type": "display_data"
    },
    {
     "name": "stdout",
     "output_type": "stream",
     "text": [
      "11. Calling matplotlib.pyplot.close\n",
      "12. Returning <NoneType:4296531008> from matplotlib.pyplot.close\n",
      "-------------------------------------------------------------------------------\n",
      " 1. Calling matplotlib.pyplot.figure\n",
      " 2. Returning <Figure:4399879760> from matplotlib.pyplot.figure\n",
      " 3. Calling matplotlib.pyplot.gca\n",
      " 4. |---Calling matplotlib.pyplot.gcf\n",
      " 5. |---Returning <Figure:4399879760> from matplotlib.pyplot.gcf\n",
      " 6. |---Calling matplotlib.figure.gca\n",
      " 7. |-------Calling matplotlib.figure.add_subplot\n",
      " 8. |-------Returning <AxesSubplot:4426445904> from matplotlib.figure.add_subplot\n",
      " 9. |---Returning <AxesSubplot:4426445904> from matplotlib.figure.gca\n",
      "10. Returning <AxesSubplot:4426445904> from matplotlib.pyplot.gca\n"
     ]
    },
    {
     "data": {
      "image/png": "[encoded data removed]",
      "text/plain": [
       "<matplotlib.figure.Figure at 0x10640d650>"
      ]
     },
     "metadata": {},
     "output_type": "display_data"
    },
    {
     "name": "stdout",
     "output_type": "stream",
     "text": [
      "11. Calling matplotlib.pyplot.close\n",
      "12. Returning <NoneType:4296531008> from matplotlib.pyplot.close\n",
      "-------------------------------------------------------------------------------\n",
      " 1. Calling matplotlib.pyplot.figure\n",
      " 2. Returning <Figure:4397833552> from matplotlib.pyplot.figure\n",
      " 3. Calling matplotlib.pyplot.gca\n",
      " 4. |---Calling matplotlib.pyplot.gcf\n",
      " 5. |---Returning <Figure:4397833552> from matplotlib.pyplot.gcf\n",
      " 6. |---Calling matplotlib.figure.gca\n",
      " 7. |-------Calling matplotlib.figure.add_subplot\n",
      " 8. |-------Returning <AxesSubplot:4415026960> from matplotlib.figure.add_subplot\n",
      " 9. |---Returning <AxesSubplot:4415026960> from matplotlib.figure.gca\n",
      "10. Returning <AxesSubplot:4415026960> from matplotlib.pyplot.gca\n"
     ]
    },
    {
     "data": {
      "image/png": "[encoded data removed]",
      "text/plain": [
       "<matplotlib.figure.Figure at 0x106219d50>"
      ]
     },
     "metadata": {},
     "output_type": "display_data"
    },
    {
     "name": "stdout",
     "output_type": "stream",
     "text": [
      "11. Calling matplotlib.pyplot.close\n",
      "12. Returning <NoneType:4296531008> from matplotlib.pyplot.close\n",
      "-------------------------------------------------------------------------------\n",
      " 1. Calling matplotlib.pyplot.figure\n",
      " 2. Returning <Figure:4399920592> from matplotlib.pyplot.figure\n",
      " 3. Calling matplotlib.pyplot.gca\n",
      " 4. |---Calling matplotlib.pyplot.gcf\n",
      " 5. |---Returning <Figure:4399920592> from matplotlib.pyplot.gcf\n",
      " 6. |---Calling matplotlib.figure.gca\n",
      " 7. |-------Calling matplotlib.figure.add_subplot\n",
      " 8. |-------Returning <AxesSubplot:4399895632> from matplotlib.figure.add_subplot\n",
      " 9. |---Returning <AxesSubplot:4399895632> from matplotlib.figure.gca\n",
      "10. Returning <AxesSubplot:4399895632> from matplotlib.pyplot.gca\n"
     ]
    },
    {
     "data": {
      "image/png": "[encoded data removed]",
      "text/plain": [
       "<matplotlib.figure.Figure at 0x1064175d0>"
      ]
     },
     "metadata": {},
     "output_type": "display_data"
    },
    {
     "name": "stdout",
     "output_type": "stream",
     "text": [
      "11. Calling matplotlib.pyplot.close\n",
      "12. Returning <NoneType:4296531008> from matplotlib.pyplot.close\n",
      "-------------------------------------------------------------------------------\n",
      " 1. Calling matplotlib.pyplot.figure\n",
      " 2. Returning <Figure:4399173520> from matplotlib.pyplot.figure\n",
      " 3. Calling matplotlib.pyplot.gca\n",
      " 4. |---Calling matplotlib.pyplot.gcf\n",
      " 5. |---Returning <Figure:4399173520> from matplotlib.pyplot.gcf\n",
      " 6. |---Calling matplotlib.figure.gca\n",
      " 7. |-------Calling matplotlib.figure.add_subplot\n",
      " 8. |-------Returning <AxesSubplot:4426046608> from matplotlib.figure.add_subplot\n",
      " 9. |---Returning <AxesSubplot:4426046608> from matplotlib.figure.gca\n",
      "10. Returning <AxesSubplot:4426046608> from matplotlib.pyplot.gca\n"
     ]
    },
    {
     "data": {
      "image/png": "[encoded data removed]",
      "text/plain": [
       "<matplotlib.figure.Figure at 0x106360f90>"
      ]
     },
     "metadata": {},
     "output_type": "display_data"
    },
    {
     "name": "stdout",
     "output_type": "stream",
     "text": [
      "11. Calling matplotlib.pyplot.close\n",
      "12. Returning <NoneType:4296531008> from matplotlib.pyplot.close\n",
      "-------------------------------------------------------------------------------\n",
      " 1. Calling matplotlib.pyplot.figure\n",
      " 2. Returning <Figure:4418129680> from matplotlib.pyplot.figure\n",
      " 3. Calling matplotlib.pyplot.gca\n",
      " 4. |---Calling matplotlib.pyplot.gcf\n",
      " 5. |---Returning <Figure:4418129680> from matplotlib.pyplot.gcf\n",
      " 6. |---Calling matplotlib.figure.gca\n",
      " 7. |-------Calling matplotlib.figure.add_subplot\n",
      " 8. |-------Returning <AxesSubplot:4398398480> from matplotlib.figure.add_subplot\n",
      " 9. |---Returning <AxesSubplot:4398398480> from matplotlib.figure.gca\n",
      "10. Returning <AxesSubplot:4398398480> from matplotlib.pyplot.gca\n"
     ]
    },
    {
     "data": {
      "image/png": "[encoded data removed]",
      "text/plain": [
       "<matplotlib.figure.Figure at 0x107574f10>"
      ]
     },
     "metadata": {},
     "output_type": "display_data"
    },
    {
     "name": "stdout",
     "output_type": "stream",
     "text": [
      "11. Calling matplotlib.pyplot.close\n",
      "12. Returning <NoneType:4296531008> from matplotlib.pyplot.close\n",
      "-------------------------------------------------------------------------------\n",
      " 1. Calling matplotlib.pyplot.figure\n",
      " 2. Returning <Figure:4412403280> from matplotlib.pyplot.figure\n",
      " 3. Calling matplotlib.pyplot.gca\n",
      " 4. |---Calling matplotlib.pyplot.gcf\n",
      " 5. |---Returning <Figure:4412403280> from matplotlib.pyplot.gcf\n",
      " 6. |---Calling matplotlib.figure.gca\n",
      " 7. |-------Calling matplotlib.figure.add_subplot\n",
      " 8. |-------Returning <AxesSubplot:4400059088> from matplotlib.figure.add_subplot\n",
      " 9. |---Returning <AxesSubplot:4400059088> from matplotlib.figure.gca\n",
      "10. Returning <AxesSubplot:4400059088> from matplotlib.pyplot.gca\n"
     ]
    },
    {
     "data": {
      "image/png": "[encoded data removed]",
      "text/plain": [
       "<matplotlib.figure.Figure at 0x106ffee50>"
      ]
     },
     "metadata": {},
     "output_type": "display_data"
    },
    {
     "name": "stdout",
     "output_type": "stream",
     "text": [
      "11. Calling matplotlib.pyplot.close\n",
      "12. Returning <NoneType:4296531008> from matplotlib.pyplot.close\n",
      "-------------------------------------------------------------------------------\n",
      " 1. Calling matplotlib.pyplot.figure\n",
      " 2. Returning <Figure:4426428176> from matplotlib.pyplot.figure\n",
      " 3. Calling matplotlib.pyplot.gca\n",
      " 4. |---Calling matplotlib.pyplot.gcf\n",
      " 5. |---Returning <Figure:4426428176> from matplotlib.pyplot.gcf\n",
      " 6. |---Calling matplotlib.figure.gca\n",
      " 7. |-------Calling matplotlib.figure.add_subplot\n",
      " 8. |-------Returning <AxesSubplot:4403561808> from matplotlib.figure.add_subplot\n",
      " 9. |---Returning <AxesSubplot:4403561808> from matplotlib.figure.gca\n",
      "10. Returning <AxesSubplot:4403561808> from matplotlib.pyplot.gca\n"
     ]
    },
    {
     "data": {
      "image/png": "[encoded data removed]",
      "text/plain": [
       "<matplotlib.figure.Figure at 0x107d5ef10>"
      ]
     },
     "metadata": {},
     "output_type": "display_data"
    },
    {
     "name": "stdout",
     "output_type": "stream",
     "text": [
      "11. Calling matplotlib.pyplot.close\n",
      "12. Returning <NoneType:4296531008> from matplotlib.pyplot.close\n",
      "-------------------------------------------------------------------------------\n",
      " 1. Calling matplotlib.pyplot.figure\n",
      " 2. Returning <Figure:4426575376> from matplotlib.pyplot.figure\n",
      " 3. Calling matplotlib.pyplot.gca\n",
      " 4. |---Calling matplotlib.pyplot.gcf\n",
      " 5. |---Returning <Figure:4426575376> from matplotlib.pyplot.gcf\n",
      " 6. |---Calling matplotlib.figure.gca\n",
      " 7. |-------Calling matplotlib.figure.add_subplot\n",
      " 8. |-------Returning <AxesSubplot:4426723088> from matplotlib.figure.add_subplot\n",
      " 9. |---Returning <AxesSubplot:4426723088> from matplotlib.figure.gca\n",
      "10. Returning <AxesSubplot:4426723088> from matplotlib.pyplot.gca\n"
     ]
    },
    {
     "data": {
      "image/png": "[encoded data removed]",
      "text/plain": [
       "<matplotlib.figure.Figure at 0x107d82e10>"
      ]
     },
     "metadata": {},
     "output_type": "display_data"
    },
    {
     "name": "stdout",
     "output_type": "stream",
     "text": [
      "11. Calling matplotlib.pyplot.close\n",
      "12. Returning <NoneType:4296531008> from matplotlib.pyplot.close\n",
      "-------------------------------------------------------------------------------\n",
      " 1. Calling matplotlib.pyplot.figure\n",
      " 2. Returning <Figure:4414323536> from matplotlib.pyplot.figure\n",
      " 3. Calling matplotlib.pyplot.gca\n",
      " 4. |---Calling matplotlib.pyplot.gcf\n",
      " 5. |---Returning <Figure:4414323536> from matplotlib.pyplot.gcf\n",
      " 6. |---Calling matplotlib.figure.gca\n",
      " 7. |-------Calling matplotlib.figure.add_subplot\n",
      " 8. |-------Returning <AxesSubplot:4418360976> from matplotlib.figure.add_subplot\n",
      " 9. |---Returning <AxesSubplot:4418360976> from matplotlib.figure.gca\n",
      "10. Returning <AxesSubplot:4418360976> from matplotlib.pyplot.gca\n"
     ]
    },
    {
     "data": {
      "image/png": "[encoded data removed]",
      "text/plain": [
       "<matplotlib.figure.Figure at 0x1071d3b50>"
      ]
     },
     "metadata": {},
     "output_type": "display_data"
    },
    {
     "name": "stdout",
     "output_type": "stream",
     "text": [
      "11. Calling matplotlib.pyplot.close\n",
      "12. Returning <NoneType:4296531008> from matplotlib.pyplot.close\n",
      "-------------------------------------------------------------------------------\n",
      " 1. Calling matplotlib.pyplot.figure\n",
      " 2. Returning <Figure:4422606416> from matplotlib.pyplot.figure\n",
      " 3. Calling matplotlib.pyplot.gca\n",
      " 4. |---Calling matplotlib.pyplot.gcf\n",
      " 5. |---Returning <Figure:4422606416> from matplotlib.pyplot.gcf\n",
      " 6. |---Calling matplotlib.figure.gca\n",
      " 7. |-------Calling matplotlib.figure.add_subplot\n",
      " 8. |-------Returning <AxesSubplot:4422489680> from matplotlib.figure.add_subplot\n",
      " 9. |---Returning <AxesSubplot:4422489680> from matplotlib.figure.gca\n",
      "10. Returning <AxesSubplot:4422489680> from matplotlib.pyplot.gca\n"
     ]
    },
    {
     "data": {
      "image/png": "[encoded data removed]",
      "text/plain": [
       "<matplotlib.figure.Figure at 0x1079b9e50>"
      ]
     },
     "metadata": {},
     "output_type": "display_data"
    },
    {
     "name": "stdout",
     "output_type": "stream",
     "text": [
      "11. Calling matplotlib.pyplot.close\n",
      "12. Returning <NoneType:4296531008> from matplotlib.pyplot.close\n",
      "-------------------------------------------------------------------------------\n",
      " 1. Calling matplotlib.pyplot.figure\n",
      " 2. Returning <Figure:4414341328> from matplotlib.pyplot.figure\n",
      " 3. Calling matplotlib.pyplot.gca\n",
      " 4. |---Calling matplotlib.pyplot.gcf\n",
      " 5. |---Returning <Figure:4414341328> from matplotlib.pyplot.gcf\n",
      " 6. |---Calling matplotlib.figure.gca\n",
      " 7. |-------Calling matplotlib.figure.add_subplot\n",
      " 8. |-------Returning <AxesSubplot:4428253136> from matplotlib.figure.add_subplot\n",
      " 9. |---Returning <AxesSubplot:4428253136> from matplotlib.figure.gca\n",
      "10. Returning <AxesSubplot:4428253136> from matplotlib.pyplot.gca\n"
     ]
    },
    {
     "data": {
      "image/png": "[encoded data removed]",
      "text/plain": [
       "<matplotlib.figure.Figure at 0x1071d80d0>"
      ]
     },
     "metadata": {},
     "output_type": "display_data"
    },
    {
     "name": "stdout",
     "output_type": "stream",
     "text": [
      "11. Calling matplotlib.pyplot.close\n",
      "12. Returning <NoneType:4296531008> from matplotlib.pyplot.close\n",
      "-------------------------------------------------------------------------------\n",
      " 1. Calling matplotlib.pyplot.figure\n",
      " 2. Returning <Figure:4400218000> from matplotlib.pyplot.figure\n",
      " 3. Calling matplotlib.pyplot.gca\n",
      " 4. |---Calling matplotlib.pyplot.gcf\n",
      " 5. |---Returning <Figure:4400218000> from matplotlib.pyplot.gcf\n",
      " 6. |---Calling matplotlib.figure.gca\n",
      " 7. |-------Calling matplotlib.figure.add_subplot\n",
      " 8. |-------Returning <AxesSubplot:4426494672> from matplotlib.figure.add_subplot\n",
      " 9. |---Returning <AxesSubplot:4426494672> from matplotlib.figure.gca\n",
      "10. Returning <AxesSubplot:4426494672> from matplotlib.pyplot.gca\n"
     ]
    },
    {
     "data": {
      "image/png": "[encoded data removed]",
      "text/plain": [
       "<matplotlib.figure.Figure at 0x10645ff90>"
      ]
     },
     "metadata": {},
     "output_type": "display_data"
    },
    {
     "name": "stdout",
     "output_type": "stream",
     "text": [
      "11. Calling matplotlib.pyplot.close\n",
      "12. Returning <NoneType:4296531008> from matplotlib.pyplot.close\n",
      "-------------------------------------------------------------------------------\n"
     ]
    }
   ],
   "source": [
    "for i in range(21):\n",
    "    plt.figure()\n",
    "    plt.hist(np.random.randn(1000))\n",
    "    plt.show()\n",
    "    print '-'*79\n",
    "    println.reset()"
   ]
  },
  {
   "cell_type": "code",
   "execution_count": 11,
   "metadata": {
    "collapsed": false
   },
   "outputs": [
    {
     "data": {
      "text/plain": [
       "[]"
      ]
     },
     "execution_count": 11,
     "metadata": {},
     "output_type": "execute_result"
    }
   ],
   "source": [
    "plt.get_fignums()"
   ]
  }
 ],
 "metadata": {
  "kernelspec": {
   "display_name": "Python 2",
   "language": "python",
   "name": "python2"
  },
  "language_info": {
   "codemirror_mode": {
    "name": "ipython",
    "version": 2
   },
   "file_extension": ".py",
   "mimetype": "text/x-python",
   "name": "python",
   "nbconvert_exporter": "python",
   "pygments_lexer": "ipython2",
   "version": "2.7.10"
  }
 },
 "nbformat": 4,
 "nbformat_minor": 0
}
