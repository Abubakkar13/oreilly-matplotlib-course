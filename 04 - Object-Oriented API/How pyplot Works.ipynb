{
 "cells": [
  {
   "cell_type": "markdown",
   "metadata": {},
   "source": [
    "## Setup\n",
    "\n"
   ]
  },
  {
   "cell_type": "code",
   "execution_count": 1,
   "metadata": {
    "collapsed": false
   },
   "outputs": [],
   "source": [
    "%matplotlib inline\n",
    "\n",
    "import matplotlib.pyplot as plt\n",
    "import numpy as np\n",
    "\n",
    "# Turn off interactive mode, so we have full control\n",
    "# over when our plots are displayed.\n",
    "plt.ioff()"
   ]
  },
  {
   "cell_type": "code",
   "execution_count": 2,
   "metadata": {
    "collapsed": true
   },
   "outputs": [],
   "source": [
    "# The location of the saved figures\n",
    "tmpdir = \"/tmp/mpl\""
   ]
  },
  {
   "cell_type": "code",
   "execution_count": 3,
   "metadata": {
    "collapsed": false
   },
   "outputs": [],
   "source": [
    "%%bash -s \"$tmpdir\"\n",
    "\n",
    "if [ -d \"$1\" ]\n",
    "then \n",
    "    rm -rf \"$1\"\n",
    "fi\n",
    "mkdir \"$1\""
   ]
  },
  {
   "cell_type": "markdown",
   "metadata": {},
   "source": [
    "## Helper Functions"
   ]
  },
  {
   "cell_type": "code",
   "execution_count": 4,
   "metadata": {
    "collapsed": true
   },
   "outputs": [],
   "source": [
    "class FilenameGenerator(object):\n",
    "    \"\"\"A generator for creating unique filenames.\n",
    "    \"\"\"\n",
    "    def __init__(self, basedir, ext):\n",
    "        self.basedir = basedir\n",
    "        self.ext = ext\n",
    "        self.fignum = 0\n",
    "    def __call__(self):\n",
    "        self.fignum += 1\n",
    "        return '%s/%d.%s' % (self.basedir, self.fignum, self.ext)\n",
    "generate_filename = FilenameGenerator(tmpdir, 'png')"
   ]
  },
  {
   "cell_type": "code",
   "execution_count": 5,
   "metadata": {
    "collapsed": false
   },
   "outputs": [],
   "source": [
    "class PrintlnFunc(object):\n",
    "    def __init__(self):\n",
    "        self.line = 1\n",
    "    def __call__(self, msg):\n",
    "        print \"%2d. %s\" % (self.line, msg)\n",
    "        self.line += 1\n",
    "    def reset(self):\n",
    "        self.line = 1\n",
    "println = PrintlnFunc()"
   ]
  },
  {
   "cell_type": "code",
   "execution_count": 6,
   "metadata": {
    "collapsed": true
   },
   "outputs": [],
   "source": [
    "class Logger(object):\n",
    "    \"\"\"Wraps a function in a callable that prints call information\n",
    "    \"\"\"\n",
    "    level = 0\n",
    "\n",
    "    def __init__(self, fn):\n",
    "        self.fn = fn\n",
    "\n",
    "    def __call__(self, *args, **kwargs):\n",
    "        # Create the padding string according to the current level in the call\n",
    "        # stack, and increase the level since we're about to pop another \n",
    "        # function onto the stack.\n",
    "        padding = \"|\" + \"-\" * (Logger.level * 4 - 1) if Logger.level > 0 else \"\"\n",
    "        Logger.level += 1\n",
    "\n",
    "        # Print calling information, call the function, and print returning info\n",
    "        println(\"%sCalling %s.%s\" % (padding, self.fn.__module__, self.fn.__name__))\n",
    "        result = self.fn(*args, **kwargs)\n",
    "        println(\"%sReturning <%s:%s> from %s.%s\" % \\\n",
    "            (padding, result.__class__.__name__, id(result), self.fn.__module__, self.fn.__name__))\n",
    "\n",
    "        # Decrease the call stack level, since we are returning.\n",
    "        Logger.level -= 1\n",
    "        return result"
   ]
  },
  {
   "cell_type": "markdown",
   "metadata": {},
   "source": [
    "## Exploring the `pyplot` Call Stack"
   ]
  },
  {
   "cell_type": "code",
   "execution_count": 7,
   "metadata": {
    "collapsed": false
   },
   "outputs": [],
   "source": [
    "# Decorate several methods with the logger\n",
    "plt.gca = Logger(plt.gca)\n",
    "plt.gcf = Logger(plt.gcf)\n",
    "plt.figure = Logger(plt.figure)\n",
    "plt.close = Logger(plt.close)\n",
    "\n",
    "# To decorate the methods on the Figure class, we have to wrap \n",
    "# our logger in a MethodType instance.\n",
    "import types\n",
    "\n",
    "# We're logging calls to the add_subplot method on the Figure\n",
    "# class because this is where new Axes objects are created.\n",
    "from matplotlib.figure import Figure\n",
    "Figure.gca = types.MethodType(Logger(Figure.gca), None, Figure)\n",
    "Figure.add_subplot = types.MethodType(Logger(Figure.add_subplot), None, Figure)"
   ]
  },
  {
   "cell_type": "code",
   "execution_count": 8,
   "metadata": {
    "collapsed": false
   },
   "outputs": [
    {
     "data": {
      "text/plain": [
       "[]"
      ]
     },
     "execution_count": 8,
     "metadata": {},
     "output_type": "execute_result"
    }
   ],
   "source": [
    "plt.get_fignums()"
   ]
  },
  {
   "cell_type": "code",
   "execution_count": 9,
   "metadata": {
    "collapsed": false
   },
   "outputs": [
    {
     "name": "stdout",
     "output_type": "stream",
     "text": [
      " 1. Calling matplotlib.pyplot.gca\n",
      " 2. |---Calling matplotlib.pyplot.gcf\n",
      " 3. |-------Calling matplotlib.pyplot.figure\n",
      " 4. |-------Returning <Figure:4368653200> from matplotlib.pyplot.figure\n",
      " 5. |---Returning <Figure:4368653200> from matplotlib.pyplot.gcf\n",
      " 6. |---Calling matplotlib.figure.gca\n",
      " 7. |-------Calling matplotlib.figure.add_subplot\n",
      " 8. |-------Returning <AxesSubplot:4397103504> from matplotlib.figure.add_subplot\n",
      " 9. |---Returning <AxesSubplot:4397103504> from matplotlib.figure.gca\n",
      "10. Returning <AxesSubplot:4397103504> from matplotlib.pyplot.gca\n",
      "11. Calling matplotlib.pyplot.gcf\n",
      "12. Returning <Figure:4368653200> from matplotlib.pyplot.gcf\n"
     ]
    }
   ],
   "source": [
    "plt.hist(np.random.randn(1000))\n",
    "plt.savefig(generate_filename())"
   ]
  },
  {
   "cell_type": "code",
   "execution_count": 10,
   "metadata": {
    "collapsed": false
   },
   "outputs": [
    {
     "data": {
      "text/plain": [
       "[1]"
      ]
     },
     "execution_count": 10,
     "metadata": {},
     "output_type": "execute_result"
    }
   ],
   "source": [
    "plt.get_fignums()"
   ]
  },
  {
   "cell_type": "markdown",
   "metadata": {},
   "source": [
    "The interactive backends (UI and Jupyter notebook), the `_pylab_helpers.destroy` function is called once the figure is shown. So, we end up with only 1 active figure in the queue at all times. However, when rendering a hardcopy the figure is not destroyed, and so calling any plot command will simply add to the current figure. There are two ways to prevent this from happening: first, you can call the `plt.clf()` function to clear the current figure before you reuse it, second, you can call the `plt.figure()` function to create a new figure."
   ]
  },
  {
   "cell_type": "code",
   "execution_count": 11,
   "metadata": {
    "collapsed": false
   },
   "outputs": [
    {
     "name": "stdout",
     "output_type": "stream",
     "text": [
      " 1. Calling matplotlib.pyplot.gcf\n",
      " 2. Returning <Figure:4368653200> from matplotlib.pyplot.gcf\n"
     ]
    }
   ],
   "source": [
    "println.reset()\n",
    "plt.clf()"
   ]
  },
  {
   "cell_type": "code",
   "execution_count": 12,
   "metadata": {
    "collapsed": false
   },
   "outputs": [
    {
     "name": "stdout",
     "output_type": "stream",
     "text": [
      " 1. Calling matplotlib.pyplot.gca\n",
      " 2. |---Calling matplotlib.pyplot.gcf\n",
      " 3. |---Returning <Figure:4368653200> from matplotlib.pyplot.gcf\n",
      " 4. |---Calling matplotlib.figure.gca\n",
      " 5. |-------Calling matplotlib.figure.add_subplot\n",
      " 6. |-------Returning <AxesSubplot:4399496592> from matplotlib.figure.add_subplot\n",
      " 7. |---Returning <AxesSubplot:4399496592> from matplotlib.figure.gca\n",
      " 8. Returning <AxesSubplot:4399496592> from matplotlib.pyplot.gca\n",
      " 9. Calling matplotlib.pyplot.gcf\n",
      "10. Returning <Figure:4368653200> from matplotlib.pyplot.gcf\n"
     ]
    }
   ],
   "source": [
    "println.reset()\n",
    "plt.plot(np.random.randn(100))\n",
    "plt.savefig(generate_filename())"
   ]
  },
  {
   "cell_type": "code",
   "execution_count": 13,
   "metadata": {
    "collapsed": false
   },
   "outputs": [
    {
     "data": {
      "text/plain": [
       "[1]"
      ]
     },
     "execution_count": 13,
     "metadata": {},
     "output_type": "execute_result"
    }
   ],
   "source": [
    "plt.get_fignums()"
   ]
  },
  {
   "cell_type": "code",
   "execution_count": 14,
   "metadata": {
    "collapsed": false
   },
   "outputs": [
    {
     "data": {
      "image/png": "[encoded data removed]"
     },
     "metadata": {},
     "output_type": "display_data"
    },
    {
     "data": {
      "image/png": "[encoded data removed]"
     },
     "metadata": {},
     "output_type": "display_data"
    }
   ],
   "source": [
    "from IPython.display import Image, display_png\n",
    "images = !ls /tmp/mpl/*.png\n",
    "for img_fname in images:\n",
    "    display_png(Image(filename=img_fname))"
   ]
  }
 ],
 "metadata": {
  "kernelspec": {
   "display_name": "Python 2",
   "language": "python",
   "name": "python2"
  },
  "language_info": {
   "codemirror_mode": {
    "name": "ipython",
    "version": 2
   },
   "file_extension": ".py",
   "mimetype": "text/x-python",
   "name": "python",
   "nbconvert_exporter": "python",
   "pygments_lexer": "ipython2",
   "version": "2.7.10"
  }
 },
 "nbformat": 4,
 "nbformat_minor": 0
}
