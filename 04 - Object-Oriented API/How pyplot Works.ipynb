{
 "cells": [
  {
   "cell_type": "code",
   "execution_count": 1,
   "metadata": {
    "collapsed": false
   },
   "outputs": [],
   "source": [
    "%matplotlib inline\n",
    "\n",
    "import matplotlib.pyplot as plt\n",
    "import numpy as np\n",
    "\n",
    "plt.ioff()"
   ]
  },
  {
   "cell_type": "code",
   "execution_count": 12,
   "metadata": {
    "collapsed": true
   },
   "outputs": [],
   "source": [
    "# Each figure created below is given a unique number, so we \n",
    "# can save each one to disk and iterate through them later.\n",
    "fignum = 1\n",
    "# The location of the saved figures\n",
    "tmpdir = \"/tmp/mpl\""
   ]
  },
  {
   "cell_type": "code",
   "execution_count": 3,
   "metadata": {
    "collapsed": false
   },
   "outputs": [],
   "source": [
    "%%bash -s \"$tmpdir\"\n",
    "\n",
    "if [ -d \"$1\" ]\n",
    "then \n",
    "    rm -rf \"$1\"\n",
    "fi\n",
    "mkdir \"$1\""
   ]
  },
  {
   "cell_type": "code",
   "execution_count": 4,
   "metadata": {
    "collapsed": false
   },
   "outputs": [
    {
     "data": {
      "text/plain": [
       "[]"
      ]
     },
     "execution_count": 4,
     "metadata": {},
     "output_type": "execute_result"
    }
   ],
   "source": [
    "plt.get_fignums()"
   ]
  },
  {
   "cell_type": "code",
   "execution_count": 5,
   "metadata": {
    "collapsed": false
   },
   "outputs": [],
   "source": [
    "# Current indentation level (i.e., how deep in the call stack we are)\n",
    "level = 0\n",
    "# Global variable to keep track of the current line number\n",
    "line = 0\n",
    "\n",
    "# Wraps a function in a function that prints our call information\n",
    "def logger(fn):\n",
    "    def wrapper(*args, **kwargs):\n",
    "        # Create the padding string according to the current level in the call\n",
    "        # stack, and increase the level since we're about to pop another \n",
    "        # function onto the stack.\n",
    "        global level, line\n",
    "        padding = \"|\" + \"-\" * (level * 4 - 1) if level > 0 else \"\"\n",
    "        level += 1\n",
    "\n",
    "        # Print calling information, call the function, and print returning info\n",
    "        line += 1\n",
    "        print \"%2d. %sCalling %s.%s\" % (line, padding, fn.__module__, fn.__name__)\n",
    "        result = fn(*args, **kwargs)\n",
    "        line += 1\n",
    "        print \"%2d. %sReturning <%s:%s> from %s.%s\" % \\\n",
    "            (line, padding, result.__class__.__name__, id(result), fn.__module__, fn.__name__)\n",
    "        \n",
    "        # Decrease the call stack level, since we are returning.\n",
    "        level -= 1\n",
    "        return result\n",
    "    return wrapper\n",
    "    \n",
    "# Decorate several methods with the logger function\n",
    "plt.gca = logger(plt.gca)\n",
    "plt.gcf = logger(plt.gcf)\n",
    "plt.figure = logger(plt.figure)\n",
    "plt.close = logger(plt.close)\n",
    "from matplotlib.figure import Figure\n",
    "Figure.gca = logger(Figure.gca)\n",
    "Figure.add_subplot = logger(Figure.add_subplot)"
   ]
  },
  {
   "cell_type": "code",
   "execution_count": 6,
   "metadata": {
    "collapsed": false
   },
   "outputs": [
    {
     "name": "stdout",
     "output_type": "stream",
     "text": [
      " 1. Calling matplotlib.pyplot.gca\n",
      " 2. |---Calling matplotlib.pyplot.gcf\n",
      " 3. |-------Calling matplotlib.pyplot.figure\n",
      " 4. |-------Returning <Figure:4360922960> from matplotlib.pyplot.figure\n",
      " 5. |---Returning <Figure:4360922960> from matplotlib.pyplot.gcf\n",
      " 6. |---Calling matplotlib.figure.gca\n",
      " 7. |-------Calling matplotlib.figure.add_subplot\n",
      " 8. |-------Returning <AxesSubplot:4387128784> from matplotlib.figure.add_subplot\n",
      " 9. |---Returning <AxesSubplot:4387128784> from matplotlib.figure.gca\n",
      "10. Returning <AxesSubplot:4387128784> from matplotlib.pyplot.gca\n",
      "11. Calling matplotlib.pyplot.gcf\n",
      "12. Returning <Figure:4360922960> from matplotlib.pyplot.gcf\n"
     ]
    }
   ],
   "source": [
    "plt.hist(np.random.randn(1000))\n",
    "plt.savefig('%s/%d.png' % (tmpdir, fignum))\n",
    "fignum += 1\n",
    "line = 0"
   ]
  },
  {
   "cell_type": "code",
   "execution_count": 7,
   "metadata": {
    "collapsed": false
   },
   "outputs": [
    {
     "data": {
      "text/plain": [
       "[1]"
      ]
     },
     "execution_count": 7,
     "metadata": {},
     "output_type": "execute_result"
    }
   ],
   "source": [
    "plt.get_fignums()"
   ]
  },
  {
   "cell_type": "markdown",
   "metadata": {},
   "source": [
    "The interactive backends (UI and Jupyter notebook), the `_pylab_helpers.destroy` function is called once the figure is shown. So, we end up with only 1 active figure in the queue at all times. However, when rendering a hardcopy the figure is not destroyed, and so calling any plot command will simply add to the current figure. There are two ways to prevent this from happening: first, you can call the `plt.clf()` function to clear the current figure before you reuse it, second, you can call the `plt.figure()` function to create a new figure."
   ]
  },
  {
   "cell_type": "code",
   "execution_count": 8,
   "metadata": {
    "collapsed": false
   },
   "outputs": [
    {
     "name": "stdout",
     "output_type": "stream",
     "text": [
      " 1. Calling matplotlib.pyplot.gcf\n",
      " 2. Returning <Figure:4360922960> from matplotlib.pyplot.gcf\n"
     ]
    }
   ],
   "source": [
    "plt.clf()\n",
    "line = 0"
   ]
  },
  {
   "cell_type": "code",
   "execution_count": 9,
   "metadata": {
    "collapsed": false
   },
   "outputs": [
    {
     "name": "stdout",
     "output_type": "stream",
     "text": [
      " 1. Calling matplotlib.pyplot.gca\n",
      " 2. |---Calling matplotlib.pyplot.gcf\n",
      " 3. |---Returning <Figure:4360922960> from matplotlib.pyplot.gcf\n",
      " 4. |---Calling matplotlib.figure.gca\n",
      " 5. |-------Calling matplotlib.figure.add_subplot\n",
      " 6. |-------Returning <AxesSubplot:4388325776> from matplotlib.figure.add_subplot\n",
      " 7. |---Returning <AxesSubplot:4388325776> from matplotlib.figure.gca\n",
      " 8. Returning <AxesSubplot:4388325776> from matplotlib.pyplot.gca\n",
      " 9. Calling matplotlib.pyplot.gcf\n",
      "10. Returning <Figure:4360922960> from matplotlib.pyplot.gcf\n"
     ]
    }
   ],
   "source": [
    "plt.plot(np.random.randn(100))\n",
    "plt.savefig('%s/%d.png' % (tmpdir, fignum))\n",
    "line = 0"
   ]
  },
  {
   "cell_type": "code",
   "execution_count": 10,
   "metadata": {
    "collapsed": false
   },
   "outputs": [
    {
     "data": {
      "text/plain": [
       "[1]"
      ]
     },
     "execution_count": 10,
     "metadata": {},
     "output_type": "execute_result"
    }
   ],
   "source": [
    "plt.get_fignums()"
   ]
  },
  {
   "cell_type": "code",
   "execution_count": 11,
   "metadata": {
    "collapsed": false
   },
   "outputs": [
    {
     "data": {
      "image/png": "[encoded data removed]"
     },
     "metadata": {},
     "output_type": "display_data"
    },
    {
     "data": {
      "image/png": "[encoded data removed]"
     },
     "metadata": {},
     "output_type": "display_data"
    }
   ],
   "source": [
    "from IPython.display import Image, display_png\n",
    "images = !ls /tmp/mpl/*.png\n",
    "for img_fname in images:\n",
    "    display_png(Image(filename=img_fname))"
   ]
  },
  {
   "cell_type": "markdown",
   "metadata": {},
   "source": [
    "## Memory Management"
   ]
  },
  {
   "cell_type": "code",
   "execution_count": null,
   "metadata": {
    "collapsed": true
   },
   "outputs": [],
   "source": [
    "import warnings\n",
    "warnings.simplefilter(action=\"always\", category=RuntimeWarning)"
   ]
  },
  {
   "cell_type": "code",
   "execution_count": null,
   "metadata": {
    "collapsed": false
   },
   "outputs": [],
   "source": [
    "for i in range(21):\n",
    "    plt.figure()\n",
    "    plt.hist(np.random.randn(1000))"
   ]
  },
  {
   "cell_type": "code",
   "execution_count": null,
   "metadata": {
    "collapsed": false
   },
   "outputs": [],
   "source": [
    "plt.get_fignums()"
   ]
  },
  {
   "cell_type": "markdown",
   "metadata": {},
   "source": [
    "### Why does this happen?\n",
    "\n",
    "By default, the `pylot` plotting functions do not close figures as they're used. Instead, `pyplot` registers an event listener that destroys all figures in memory when your script comes to an end. While the script is running, however, the `pyplot` interface does actively manage memory by reusing a single figure over and over again. Basically, every time a figure is rendered (output to a file or displayed in a window) `pyplot` will clear the figure and reuse it for the next set of plotting commands. It grabs the current figure from the top of global stack, and it always checks the stack for a figure before it creates a new one. If the user calls the `figure` function directly, they bypass this check and create a new figure and add it to the top of the stack, and `pyplot` just uses that whenever plotting commands are called. This means that each time the figure "
   ]
  },
  {
   "cell_type": "code",
   "execution_count": null,
   "metadata": {
    "collapsed": false
   },
   "outputs": [],
   "source": [
    "plt.close(\"all\")"
   ]
  },
  {
   "cell_type": "code",
   "execution_count": null,
   "metadata": {
    "collapsed": false
   },
   "outputs": [],
   "source": [
    "for i in range(21):\n",
    "    plt.figure()\n",
    "    plt.hist(np.random.randn(1000))\n",
    "    plt.show()\n",
    "    #plt.close()"
   ]
  },
  {
   "cell_type": "markdown",
   "metadata": {},
   "source": [
    "Now we no longer get a warning because we are closing each figure manually after we're finished with it."
   ]
  },
  {
   "cell_type": "code",
   "execution_count": null,
   "metadata": {
    "collapsed": false
   },
   "outputs": [],
   "source": [
    "plt.get_fignums()"
   ]
  },
  {
   "cell_type": "code",
   "execution_count": null,
   "metadata": {
    "collapsed": true
   },
   "outputs": [],
   "source": []
  }
 ],
 "metadata": {
  "kernelspec": {
   "display_name": "Python 2",
   "language": "python",
   "name": "python2"
  },
  "language_info": {
   "codemirror_mode": {
    "name": "ipython",
    "version": 2
   },
   "file_extension": ".py",
   "mimetype": "text/x-python",
   "name": "python",
   "nbconvert_exporter": "python",
   "pygments_lexer": "ipython2",
   "version": "2.7.10"
  }
 },
 "nbformat": 4,
 "nbformat_minor": 0
}
