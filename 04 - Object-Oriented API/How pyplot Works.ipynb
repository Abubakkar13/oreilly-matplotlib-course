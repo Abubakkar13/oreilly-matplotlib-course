{
 "cells": [
  {
   "cell_type": "markdown",
   "metadata": {},
   "source": [
    "In the previous section, we learned all about plotting with matplotlib using the `pyplot` interface. And, in the last two lessons of this section, we took a deeper look at the architecture of matplotlib, and the components that make up a typical plot. In this lesson, we'll go even deeper, and put what we've learned to the test by tracing the steps that a call to a plotting function in `pyplot` goes through \"behind the scenes\". \n",
    "\n",
    "Now, before we can get started, we have a little bit of setup that we need to do for everything to be as clear as possible, so let's go ahead and jump right in and get started."
   ]
  },
  {
   "cell_type": "code",
   "execution_count": 1,
   "metadata": {
    "collapsed": false
   },
   "outputs": [],
   "source": [
    "%matplotlib inline\n",
    "\n",
    "import matplotlib.pyplot as plt\n",
    "import numpy as np"
   ]
  },
  {
   "cell_type": "markdown",
   "metadata": {},
   "source": [
    "## Setup\n",
    "\n",
    "One of the differences between this lesson and the previous ones, is that in this lesson, we want to be in complete control over when our plots are rendered, so our first step will be to turn off interactive mode."
   ]
  },
  {
   "cell_type": "code",
   "execution_count": 2,
   "metadata": {
    "collapsed": false
   },
   "outputs": [],
   "source": [
    "# Turn off interactive mode, so we have full control\n",
    "# over when our plots are displayed.\n",
    "plt.ioff()"
   ]
  },
  {
   "cell_type": "markdown",
   "metadata": {},
   "source": [
    "Rather than displaying our plots inline, in this lesson, for reasons we'll cover later, we'll be saving each figure to a file instead. To do so, we'll need a folder in which to save our plots, and the bash code below creates that directory for us. \n",
    "\n",
    "One thing I'd like to point out here is that the directory the code below creates will reside within the `/tmp` directory. If you are on a Windows machine, or if you don't have the right permissions to modify the `/tmp` directory, you'll want to change the `tmpdir` variable on line 3 below."
   ]
  },
  {
   "cell_type": "code",
   "execution_count": 3,
   "metadata": {
    "collapsed": false
   },
   "outputs": [],
   "source": [
    "%%bash --out tmpdir\n",
    "\n",
    "tmpdir=\"/tmp/mpl\"\n",
    "if [ -d \"$tmpdir\" ]\n",
    "then \n",
    "    rm -rf \"$tmpdir\"\n",
    "fi\n",
    "mkdir \"$tmpdir\"\n",
    "\n",
    "echo -n \"$tmpdir\""
   ]
  },
  {
   "cell_type": "markdown",
   "metadata": {},
   "source": [
    "## Helper Functions\n",
    "\n",
    "In the next few cells we'll be creating a few helper functions that we'll use throughout the rest of this lesson. Now, if you don't have a ton of experience with python, you may be looking at the code below and thinking to yourself \"What do you mean functions? All I see are a handful of classes!\" Well, you're right, at least partially. \n",
    "\n",
    "You'll notice in each of the classes below we've implemented this weird looking method (`__call__`) with leading and trailing underscores which is called, by most pythonistas at least, \"dunder call\". This method allows instances of a class to be called just like a function, and doing so will actually call this special method. The really nice thing about this feature is that these callable objects have state that can change, as well as change the behavior of the function, with each call. This is nice, because it allows us to setup some variables that are used, and altered, by the function without making those variables global.\n",
    "\n",
    "For example, the first class below, `FilenameGenerator`, takes two variables when it's created: a base directory, which will be the temp directory we created in the last step, and a filename extension. It will then use these two variables, along with a third, to generate a filename every time it's called. That third variable is where the real magic happens. Now, we want a unique filename every time we call this function, and we want the names to be sortable, so we can later display them in the same order in which they were created. To do that, we have this third variable, called `fignum`, which will be incremented every time we call our function. If we were to try and do this without a callable object, we would have to either create `fignum` as a global variable, or use a closure to prevent the variable from leaking into the global space. The global variable approach is just bad practice for so many reasons, and personally, I feel that callable objects are actually easier to understand than closures, and bit cleaner as well. "
   ]
  },
  {
   "cell_type": "code",
   "execution_count": 4,
   "metadata": {
    "collapsed": true
   },
   "outputs": [],
   "source": [
    "class FilenameGenerator(object):\n",
    "    \"\"\"A generator for creating unique filenames.\n",
    "    \"\"\"\n",
    "    def __init__(self, basedir, ext):\n",
    "        self.basedir = basedir\n",
    "        self.ext = ext\n",
    "        self.fignum = 0\n",
    "    def __call__(self):\n",
    "        self.fignum += 1\n",
    "        return '%s/fig_%02d.%s' % (self.basedir, self.fignum, self.ext)\n",
    "generate_filename = FilenameGenerator(tmpdir, 'png')"
   ]
  },
  {
   "cell_type": "markdown",
   "metadata": {},
   "source": [
    "The next helper function, or callable object, is a simple print function that takes a message and prints it with a leading line number. To do this, we'll need a variable that keeps track of the current line number, and that's the reason that we've gone with a callable object here instead of a simple function."
   ]
  },
  {
   "cell_type": "code",
   "execution_count": 5,
   "metadata": {
    "collapsed": false
   },
   "outputs": [],
   "source": [
    "class PrintlnFunc(object):\n",
    "    def __init__(self):\n",
    "        self.line = 1\n",
    "    def __call__(self, msg):\n",
    "        print \"%2d. %s\" % (self.line, msg)\n",
    "        self.line += 1\n",
    "    def reset(self):\n",
    "        self.line = 1\n",
    "println = PrintlnFunc()"
   ]
  },
  {
   "cell_type": "markdown",
   "metadata": {},
   "source": [
    "Finally, the callable object below is a decorator that adds some simple logging to a function. When called, it will print out a bit of information on the function it's decorating before and after calling it. We'll use this callable object to decorate several functions in the matplotlib library so we can trace the set of function calls that are made each time we call a function from the `pyplot` interface. The reason we're using a callable object here instead of a function, is because we need a variable to keep track of the depth of the call stack, so we can make our logging information more readable."
   ]
  },
  {
   "cell_type": "code",
   "execution_count": 6,
   "metadata": {
    "collapsed": true
   },
   "outputs": [],
   "source": [
    "class Logger(object):\n",
    "    \"\"\"Wraps a function in a callable that prints call information\n",
    "    \"\"\"\n",
    "    level = 0\n",
    "\n",
    "    def __init__(self, fn):\n",
    "        self.fn = fn\n",
    "\n",
    "    def __call__(self, *args, **kwargs):\n",
    "        # Create the padding string according to the current level in the call\n",
    "        # stack, and increase the level since we're about to pop another \n",
    "        # function onto the stack.\n",
    "        padding = \"|\" + \"-\" * (Logger.level * 4 - 1) if Logger.level > 0 else \"\"\n",
    "        Logger.level += 1\n",
    "\n",
    "        # Print calling information, call the function, and print returning info\n",
    "        println(\"%sCalling %s.%s\" % (padding, self.fn.__module__, self.fn.__name__))\n",
    "        result = self.fn(*args, **kwargs)\n",
    "        println(\"%sReturning <%s:%s> from %s.%s\" % \\\n",
    "            (padding, result.__class__.__name__, id(result), self.fn.__module__, self.fn.__name__))\n",
    "\n",
    "        # Decrease the call stack level, since we are returning.\n",
    "        Logger.level -= 1\n",
    "        return result"
   ]
  },
  {
   "cell_type": "markdown",
   "metadata": {},
   "source": [
    "## Exploring the `pyplot` Call Stack\n",
    "\n",
    "So, now that we have a bunch of helper functions setup and ready to be used, we're ready to start exploring how `pyplot` works. First, we'll use the `Logger` class that we created in the last cell to decorate several functions on the `pyplot` module."
   ]
  },
  {
   "cell_type": "code",
   "execution_count": 7,
   "metadata": {
    "collapsed": true
   },
   "outputs": [],
   "source": [
    "# Decorate several methods with the logger\n",
    "plt.gca = Logger(plt.gca)\n",
    "plt.gcf = Logger(plt.gcf)\n",
    "plt.figure = Logger(plt.figure)\n",
    "plt.close = Logger(plt.close)"
   ]
  },
  {
   "cell_type": "markdown",
   "metadata": {},
   "source": [
    "We also want to decorate a few methods on the `Figure` and `Axes` classes, especially the `__init__` functions so we can see when a new instance of each is being created, but decorating a function attached to a class is a bit different from decorating a regular function. To make this possible, we'll have to use the `types.MethodType` class to wrap our `Logger` object. Other than that, the code below is pretty identical to the last bit."
   ]
  },
  {
   "cell_type": "code",
   "execution_count": 8,
   "metadata": {
    "collapsed": true
   },
   "outputs": [],
   "source": [
    "# To decorate the methods on the Figure class, we have to wrap \n",
    "# our logger in a MethodType instance.\n",
    "import types\n",
    "\n",
    "# Logging the calls for which the pyplot functions are simple\n",
    "# proxies. Specifically, the add_subplot and __init__ methods\n",
    "# are interesting because the allow us to see when new objects\n",
    "# are being created.\n",
    "from matplotlib.figure import Figure\n",
    "from matplotlib.axes import Axes\n",
    "Figure.gca = types.MethodType(Logger(Figure.gca), None, Figure)\n",
    "Figure.add_subplot = types.MethodType(Logger(Figure.add_subplot), None, Figure)\n",
    "Figure.__init__ = types.MethodType(Logger(Figure.__init__), None, Figure)\n",
    "Axes.__init__ = types.MethodType(Logger(Axes.__init__), None, Axes)"
   ]
  },
  {
   "cell_type": "markdown",
   "metadata": {},
   "source": [
    "So, now we have everything setup to make it possible to trace all the work that the `pyplot` interface is doing on our behalf whenever we call a simple plotting function. The only thing left to do is to actually try and plot something."
   ]
  },
  {
   "cell_type": "code",
   "execution_count": 9,
   "metadata": {
    "collapsed": false
   },
   "outputs": [
    {
     "name": "stdout",
     "output_type": "stream",
     "text": [
      " 1. Calling matplotlib.pyplot.gca\n",
      " 2. |---Calling matplotlib.pyplot.gcf\n",
      " 3. |-------Calling matplotlib.pyplot.figure\n",
      " 4. |-----------Calling matplotlib.figure.__init__\n",
      " 5. |-----------Returning <NoneType:4296531008> from matplotlib.figure.__init__\n",
      " 6. |-------Returning <Figure:4397008464> from matplotlib.pyplot.figure\n",
      " 7. |---Returning <Figure:4397008464> from matplotlib.pyplot.gcf\n",
      " 8. |---Calling matplotlib.figure.gca\n",
      " 9. |-------Calling matplotlib.figure.add_subplot\n",
      "10. |-----------Calling matplotlib.axes._base.__init__\n",
      "11. |-----------Returning <NoneType:4296531008> from matplotlib.axes._base.__init__\n",
      "12. |-------Returning <AxesSubplot:4397045456> from matplotlib.figure.add_subplot\n",
      "13. |---Returning <AxesSubplot:4397045456> from matplotlib.figure.gca\n",
      "14. Returning <AxesSubplot:4397045456> from matplotlib.pyplot.gca\n"
     ]
    }
   ],
   "source": [
    "plt.hist(np.random.randn(1000));"
   ]
  },
  {
   "cell_type": "markdown",
   "metadata": {},
   "source": [
    "What we see happening above, and in the diagram below, is that the `pyplot.hist()` function first tries to get the current `Axes` object by calling the `pyplot.gca()` function---remember I mentioned in the last lesson that the `Axes` class was the main interface for plotting. Then, to get the current axes, the `pyplot.gca()` function must first get the current `Figure` by calling the `pyplot.gcf()` function---remember that the `Figure` object is the root object that contains all of the components in a plot, or collection of plots. Then, the `pyplot.gcf()` function will check for the top most figure on a stack of figures. If one exists, it will return it, otherwise, it will call the `pyplot.figure()` function which will create an instance of the `Figure` class and add it to the stack. Then, the `pyplot.gcf()` function will return the newly created figure. After getting the current figure, the `pyplot.gca()` function will check if the figure contains an axes object, and if it doesn't it will call the `Figure.add_subplot()` function to create one. Finally, after the `pyplot.gca()` function returns the newly created `Axes` object, the `pyplot.hist()` function will call the `Axes.hist()` function on it to create our histogram.\n",
    "\n",
    "<img src=\"../images/pyplot_stateful_interface.jpeg\" />\n",
    "\n",
    "Now, we're not going to show the histogram that we've just created here, because the interactive backends (i.e., the UI backends and the Jupyter notebook) automatically destroy the figure object after it is shown. Since we want to see how the `pyplot` interface works both with, and without, a current figure, we'll save our histogram to the disk instead to keep the current figure object on the stack. The call below will save the figure to the temp directory we created at the begining of this lesson using the `generate_filename()` callable object we made to create a unique, sortable filename.\n",
    "\n",
    "<!--- the _pylab_helpers.destroy function is called once the figure is shown. So, we end up with only 1 active figure in the queue at all times. However, when rendering a hardcopy the figure is not destroyed, and so calling any plot command will simply add to the current figure. There are two ways to prevent this from happening: first, you can call the plt.clf() function to clear the current figure before you reuse it, second, you can call the plt.figure() function to create a new figure. We'll go with first option here and save the call to plt.figure() for our next lesson --->"
   ]
  },
  {
   "cell_type": "code",
   "execution_count": 10,
   "metadata": {
    "collapsed": false
   },
   "outputs": [
    {
     "name": "stdout",
     "output_type": "stream",
     "text": [
      "15. Calling matplotlib.pyplot.gcf\n",
      "16. Returning <Figure:4397008464> from matplotlib.pyplot.gcf\n"
     ]
    }
   ],
   "source": [
    "plt.savefig(generate_filename())"
   ]
  },
  {
   "cell_type": "markdown",
   "metadata": {},
   "source": [
    "You probably noticed that calling the `pyplot.savefig()` function caused the `pyplot.gcf()` function to be called. By having a stateful interface that keeps track of the current figure being used, the `pyplot` module has saved us a few keystokes by allowing us to save a figure without explicitly defining which figure to save. And, if you want to see the figure stack itself, you can simply call the `pyplot.get_fignums()` to get a list of the figures in the stack."
   ]
  },
  {
   "cell_type": "code",
   "execution_count": 12,
   "metadata": {
    "collapsed": false
   },
   "outputs": [
    {
     "data": {
      "text/plain": [
       "[1]"
      ]
     },
     "execution_count": 12,
     "metadata": {},
     "output_type": "execute_result"
    }
   ],
   "source": [
    "plt.get_fignums()"
   ]
  },
  {
   "cell_type": "markdown",
   "metadata": {},
   "source": [
    "## Where's the State\n",
    "\n",
    "If you're curious as to where the state in `pyplot`'s stateful interface resides, you can find it in the `_pylab_helpers` module. In this module, you'll find a singleton class called `Gcf` that contains a list of `Figure` objects called the `Gcf._activeQue`. To see what's in the stack, we'll create a function that will loop through each figure in the stack and print out each one's figure number and `id`."
   ]
  },
  {
   "cell_type": "code",
   "execution_count": 14,
   "metadata": {
    "collapsed": false
   },
   "outputs": [
    {
     "name": "stdout",
     "output_type": "stream",
     "text": [
      "(1, <Figure:4397008464>)\n"
     ]
    }
   ],
   "source": [
    "from matplotlib import _pylab_helpers\n",
    "\n",
    "def print_fig_stack():\n",
    "    for figmgr in _pylab_helpers.Gcf._activeQue:\n",
    "        print \"(%d, <Figure:%d>)\" % (figmgr.num, id(figmgr.canvas.figure))\n",
    "\n",
    "print_fig_stack()"
   ]
  },
  {
   "cell_type": "markdown",
   "metadata": {},
   "source": [
    "Again, we can two things using this function: first, we have exactly one figure in the current stack, and second, that figure is the one that created with our very first call to the `pyplot.hist()` function (you can tell by looking at the `id`'s).\n",
    "\n",
    "Of course, there's one problem with reusing a figure: calling anymore plot commands will simply add to the current figure, which isn't what we want at all. Now, there are two ways to prevent this from happening: first, you can call the `plt.clf()` function to clear the current figure before you reuse it, and second, you can call the `plt.figure()` function to create a brand new figure. We'll go with first option here and save the call to `plt.figure()` for discussion in our next lesson. "
   ]
  },
  {
   "cell_type": "code",
   "execution_count": 15,
   "metadata": {
    "collapsed": false
   },
   "outputs": [
    {
     "name": "stdout",
     "output_type": "stream",
     "text": [
      " 1. Calling matplotlib.pyplot.gcf\n",
      " 2. Returning <Figure:4397008464> from matplotlib.pyplot.gcf\n"
     ]
    }
   ],
   "source": [
    "plt.clf()"
   ]
  },
  {
   "cell_type": "markdown",
   "metadata": {},
   "source": [
    "And, now we're going to create another plot to see how the `pyplot` interface acts when we already have an existing `Figure` object. But first, before we do that, we want to start the line numbering over, and luckily we can do that with a call to the `println.reset()` function. Finally, we use our `generate_filename()` function again to save our new figure to the temp directory with the next consecutive filename."
   ]
  },
  {
   "cell_type": "code",
   "execution_count": 16,
   "metadata": {
    "collapsed": false
   },
   "outputs": [
    {
     "name": "stdout",
     "output_type": "stream",
     "text": [
      " 1. Calling matplotlib.pyplot.gca\n",
      " 2. |---Calling matplotlib.pyplot.gcf\n",
      " 3. |---Returning <Figure:4397008464> from matplotlib.pyplot.gcf\n",
      " 4. |---Calling matplotlib.figure.gca\n",
      " 5. |-------Calling matplotlib.figure.add_subplot\n",
      " 6. |-----------Calling matplotlib.axes._base.__init__\n",
      " 7. |-----------Returning <NoneType:4296531008> from matplotlib.axes._base.__init__\n",
      " 8. |-------Returning <AxesSubplot:4400052944> from matplotlib.figure.add_subplot\n",
      " 9. |---Returning <AxesSubplot:4400052944> from matplotlib.figure.gca\n",
      "10. Returning <AxesSubplot:4400052944> from matplotlib.pyplot.gca\n",
      "11. Calling matplotlib.pyplot.gcf\n",
      "12. Returning <Figure:4397008464> from matplotlib.pyplot.gcf\n"
     ]
    }
   ],
   "source": [
    "println.reset()\n",
    "plt.plot(np.random.randn(100))\n",
    "plt.savefig(generate_filename())"
   ]
  },
  {
   "cell_type": "markdown",
   "metadata": {},
   "source": [
    "This time around, you'll notice that there are slightly fewer calls. Again, the `pyplot.gca()` and `pyplot.gcf()` functions are called, but this time around, there is already a figure present on the stack, so the `pyplot.figure()` function is never called to create a new `Figure` object. Outside of that, everything looks nearly identical to the `pyplot.hist()` call. Also, notice that the `id` for the figure used in the code above is the same one as the figure used in the histogram sample, and since we're once again saving the figure instead of showing it, this `id` should also match that of the figure in the current figure stack and we can prove it by once again calling our `print_fig_stack()`."
   ]
  },
  {
   "cell_type": "code",
   "execution_count": 19,
   "metadata": {
    "collapsed": false
   },
   "outputs": [
    {
     "name": "stdout",
     "output_type": "stream",
     "text": [
      "(1, <Figure:4397008464>)\n"
     ]
    }
   ],
   "source": [
    "print_fig_stack()"
   ]
  },
  {
   "cell_type": "markdown",
   "metadata": {},
   "source": [
    "Just to show that everything else worked as you'd expect, we're displaying each of the figure images that we created earlier with the code below."
   ]
  },
  {
   "cell_type": "code",
   "execution_count": 20,
   "metadata": {
    "collapsed": false
   },
   "outputs": [
    {
     "data": {
      "image/png": "[encoded data removed]"
     },
     "metadata": {},
     "output_type": "display_data"
    },
    {
     "data": {
      "image/png": "[encoded data removed]"
     },
     "metadata": {},
     "output_type": "display_data"
    }
   ],
   "source": [
    "from IPython.display import Image, display_png\n",
    "images = !ls /tmp/mpl/*.png\n",
    "for img_fname in images:\n",
    "    display_png(Image(filename=img_fname))"
   ]
  },
  {
   "cell_type": "markdown",
   "metadata": {},
   "source": [
    "## Conclusion\n",
    "\n"
   ]
  }
 ],
 "metadata": {
  "kernelspec": {
   "display_name": "Python 2",
   "language": "python",
   "name": "python2"
  },
  "language_info": {
   "codemirror_mode": {
    "name": "ipython",
    "version": 2
   },
   "file_extension": ".py",
   "mimetype": "text/x-python",
   "name": "python",
   "nbconvert_exporter": "python",
   "pygments_lexer": "ipython2",
   "version": "2.7.10"
  }
 },
 "nbformat": 4,
 "nbformat_minor": 0
}
