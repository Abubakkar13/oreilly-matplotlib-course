{
 "cells": [
  {
   "cell_type": "markdown",
   "metadata": {},
   "source": [
    "In the last lesson we saw how to change the look and feel of our plots, both on the fly by altering the settings in the `rcParams` object, and permanently by adding them to our `matplotlibrc` file. There may come a time though, when you've created a style that you want to share with the rest of the world, or you may have multiple styles that you like to use for different reasons. When that time comes, you'll want to capture those settings in a style sheet. \n",
    "\n",
    "In this lesson, we'll see what matplotlib style sheets can do for us, and we'll begin by taking a look at the default styles that come with matplotlib."
   ]
  },
  {
   "cell_type": "code",
   "execution_count": 1,
   "metadata": {
    "collapsed": false
   },
   "outputs": [],
   "source": [
    "%matplotlib inline\n",
    "\n",
    "import matplotlib as mpl\n",
    "import matplotlib.pyplot as plt\n",
    "import numpy as np\n",
    "\n",
    "from IPython.display import set_matplotlib_formats\n",
    "set_matplotlib_formats('retina')"
   ]
  },
  {
   "cell_type": "markdown",
   "metadata": {
    "collapsed": true
   },
   "source": [
    "## Custom Style Sheets"
   ]
  },
  {
   "cell_type": "code",
   "execution_count": null,
   "metadata": {
    "collapsed": false
   },
   "outputs": [],
   "source": [
    "import matplotlib as mpl\n",
    "\n",
    "mpl.get_configdir()"
   ]
  },
  {
   "cell_type": "code",
   "execution_count": null,
   "metadata": {
    "collapsed": false
   },
   "outputs": [],
   "source": [
    "mpl.get_data_path()"
   ]
  },
  {
   "cell_type": "code",
   "execution_count": null,
   "metadata": {
    "collapsed": false
   },
   "outputs": [],
   "source": [
    "import os\n",
    "\n",
    "!cat {os.path.join(mpl.get_data_path(), 'stylelib', 'fivethirtyeight.mplstyle')}"
   ]
  },
  {
   "cell_type": "code",
   "execution_count": null,
   "metadata": {
    "collapsed": false
   },
   "outputs": [],
   "source": [
    "import inspect\n",
    "\n",
    "from pygments import highlight\n",
    "from pygments.lexers import PythonLexer\n",
    "from pygments.formatters import HtmlFormatter\n",
    "from IPython.display import display, HTML\n",
    "\n",
    "code = inspect.getsource(plt.xkcd)\n",
    "display(HTML(highlight(code, PythonLexer(), HtmlFormatter(noclasses=True))))"
   ]
  },
  {
   "cell_type": "code",
   "execution_count": null,
   "metadata": {
    "collapsed": false
   },
   "outputs": [],
   "source": [
    "with plt.xkcd():\n",
    "    plt.plot(np.random.rand(20))"
   ]
  },
  {
   "cell_type": "code",
   "execution_count": null,
   "metadata": {
    "collapsed": false
   },
   "outputs": [],
   "source": [
    "with plt.style.context('xkcd'):\n",
    "    plt.plot(np.random.rand(20))"
   ]
  },
  {
   "cell_type": "code",
   "execution_count": null,
   "metadata": {
    "collapsed": false
   },
   "outputs": [],
   "source": [
    "plt.style.available"
   ]
  },
  {
   "cell_type": "markdown",
   "metadata": {},
   "source": [
    "The matplotlib documentation has some [sample code][1] that uses the `xkcd()` function.\n",
    "\n",
    "[1]: http://matplotlib.org/xkcd/examples/showcase/xkcd.html"
   ]
  },
  {
   "cell_type": "code",
   "execution_count": null,
   "metadata": {
    "collapsed": false
   },
   "outputs": [],
   "source": [
    "with plt.xkcd():\n",
    "\n",
    "    fig = plt.figure()\n",
    "    ax = fig.add_subplot(1, 1, 1)\n",
    "    ax.spines['right'].set_color('none')\n",
    "    ax.spines['top'].set_color('none')\n",
    "    plt.xticks([])\n",
    "    plt.yticks([])\n",
    "    ax.set_ylim([-30, 10])\n",
    "\n",
    "    data = np.ones(100)\n",
    "    data[70:] -= np.arange(30)\n",
    "\n",
    "    plt.annotate(\n",
    "        'THE DAY I REALIZED\\nI COULD COOK BACON\\nWHENEVER I WANTED',\n",
    "        xy=(70, 1), arrowprops=dict(arrowstyle='->'), xytext=(15, -10))\n",
    "\n",
    "    plt.plot(data)\n",
    "\n",
    "    plt.xlabel('time')\n",
    "    plt.ylabel('my overall health')\n",
    "\n",
    "    fig = plt.figure()\n",
    "    ax = fig.add_subplot(1, 1, 1)\n",
    "    ax.bar([-0.125, 1.0-0.125], [0, 100], 0.25)\n",
    "    ax.spines['right'].set_color('none')\n",
    "    ax.spines['top'].set_color('none')\n",
    "    ax.xaxis.set_ticks_position('bottom')\n",
    "    ax.set_xticks([0, 1])\n",
    "    ax.set_xlim([-0.5, 1.5])\n",
    "    ax.set_ylim([0, 110])\n",
    "    ax.set_xticklabels(['CONFIRMED BY\\nEXPERIMENT', 'REFUTED BY\\nEXPERIMENT'])\n",
    "    plt.yticks([])\n",
    "\n",
    "    plt.title(\"CLAIMS OF SUPERNATURAL POWERS\")\n",
    "\n",
    "    plt.show()"
   ]
  },
  {
   "cell_type": "code",
   "execution_count": null,
   "metadata": {
    "collapsed": false
   },
   "outputs": [],
   "source": [
    "with plt.style.context('xkcd'):\n",
    "\n",
    "    fig = plt.figure()\n",
    "    ax = fig.add_subplot(1, 1, 1)\n",
    "    ax.spines['right'].set_color('none')\n",
    "    ax.spines['top'].set_color('none')\n",
    "    plt.xticks([])\n",
    "    plt.yticks([])\n",
    "    ax.set_ylim([-30, 10])\n",
    "\n",
    "    data = np.ones(100)\n",
    "    data[70:] -= np.arange(30)\n",
    "\n",
    "    plt.annotate(\n",
    "        'THE DAY I REALIZED\\nI COULD COOK BACON\\nWHENEVER I WANTED',\n",
    "        xy=(70, 1), arrowprops=dict(arrowstyle='->'), xytext=(15, -10))\n",
    "\n",
    "    plt.plot(data)\n",
    "\n",
    "    plt.xlabel('time')\n",
    "    plt.ylabel('my overall health')\n",
    "\n",
    "    fig = plt.figure()\n",
    "    ax = fig.add_subplot(1, 1, 1)\n",
    "    ax.bar([-0.125, 1.0-0.125], [0, 100], 0.25)\n",
    "    ax.spines['right'].set_color('none')\n",
    "    ax.spines['top'].set_color('none')\n",
    "    ax.xaxis.set_ticks_position('bottom')\n",
    "    ax.set_xticks([0, 1])\n",
    "    ax.set_xlim([-0.5, 1.5])\n",
    "    ax.set_ylim([0, 110])\n",
    "    ax.set_xticklabels(['CONFIRMED BY\\nEXPERIMENT', 'REFUTED BY\\nEXPERIMENT'])\n",
    "    plt.yticks([])\n",
    "\n",
    "    plt.title(\"CLAIMS OF SUPERNATURAL POWERS\")\n",
    "\n",
    "    plt.show()"
   ]
  },
  {
   "cell_type": "code",
   "execution_count": null,
   "metadata": {
    "collapsed": true
   },
   "outputs": [],
   "source": []
  }
 ],
 "metadata": {
  "kernelspec": {
   "display_name": "Python 2",
   "language": "python",
   "name": "python2"
  },
  "language_info": {
   "codemirror_mode": {
    "name": "ipython",
    "version": 2
   },
   "file_extension": ".py",
   "mimetype": "text/x-python",
   "name": "python",
   "nbconvert_exporter": "python",
   "pygments_lexer": "ipython2",
   "version": "2.7.11"
  }
 },
 "nbformat": 4,
 "nbformat_minor": 0
}
