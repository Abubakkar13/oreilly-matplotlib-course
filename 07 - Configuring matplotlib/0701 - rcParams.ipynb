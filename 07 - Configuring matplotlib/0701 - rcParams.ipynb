{
 "cells": [
  {
   "cell_type": "markdown",
   "metadata": {},
   "source": [
    "I don't know about you, but one of the things that's been driving me crazy about using matplotlib throughout this entire course is the look of the plots. Though they serve their purpose, and allow us to explore our data, frankly, they're not very attractive. Fortunately, you're not stuck with the matplotlib default look and feel, and in this lesson, we'll learn all about matplotlib's extreme configurability, and see how to change the default appearance for all of our plots.\n",
    "\n",
    "But, of course, before we can get started, like always, we'll need to run the standard setup code to get our Jupyter notebook ready to go."
   ]
  },
  {
   "cell_type": "code",
   "execution_count": 1,
   "metadata": {
    "collapsed": true
   },
   "outputs": [],
   "source": [
    "%matplotlib inline\n",
    "\n",
    "import matplotlib as mpl\n",
    "import matplotlib.pyplot as plt\n",
    "import numpy as np\n",
    "\n",
    "from IPython.display import set_matplotlib_formats\n",
    "set_matplotlib_formats('retina')"
   ]
  },
  {
   "cell_type": "markdown",
   "metadata": {},
   "source": [
    "## The `rcParams` Object\n",
    "\n",
    "All of matplotlib's settings are stored in a global dictionary (or, more accurately, `dict` like object) on the `matplotlib` module called `rcParams`. The code below, displays this collection of default settings for us to peruse."
   ]
  },
  {
   "cell_type": "code",
   "execution_count": 2,
   "metadata": {
    "collapsed": false
   },
   "outputs": [
    {
     "data": {
      "text/plain": [
       "RcParams({u'agg.path.chunksize': 0,\n",
       "          u'animation.avconv_args': [],\n",
       "          u'animation.avconv_path': u'avconv',\n",
       "          u'animation.bitrate': -1,\n",
       "          u'animation.codec': u'mpeg4',\n",
       "          u'animation.convert_args': [],\n",
       "          u'animation.convert_path': u'convert',\n",
       "          u'animation.ffmpeg_args': [],\n",
       "          u'animation.ffmpeg_path': u'ffmpeg',\n",
       "          u'animation.frame_format': u'png',\n",
       "          u'animation.html': u'none',\n",
       "          u'animation.mencoder_args': [],\n",
       "          u'animation.mencoder_path': u'mencoder',\n",
       "          u'animation.writer': u'ffmpeg',\n",
       "          u'axes.axisbelow': False,\n",
       "          u'axes.edgecolor': u'k',\n",
       "          u'axes.facecolor': u'w',\n",
       "          u'axes.formatter.limits': [-7, 7],\n",
       "          u'axes.formatter.use_locale': False,\n",
       "          u'axes.formatter.use_mathtext': False,\n",
       "          u'axes.formatter.useoffset': True,\n",
       "          u'axes.grid': False,\n",
       "          u'axes.grid.axis': u'both',\n",
       "          u'axes.grid.which': u'major',\n",
       "          u'axes.hold': True,\n",
       "          u'axes.labelcolor': u'k',\n",
       "          u'axes.labelpad': 5.0,\n",
       "          u'axes.labelsize': u'medium',\n",
       "          u'axes.labelweight': u'normal',\n",
       "          u'axes.linewidth': 1.0,\n",
       "          u'axes.prop_cycle': cycler(u'color', [u'b', u'g', u'r', u'c', u'm', u'y', u'k']),\n",
       "          u'axes.spines.bottom': True,\n",
       "          u'axes.spines.left': True,\n",
       "          u'axes.spines.right': True,\n",
       "          u'axes.spines.top': True,\n",
       "          u'axes.titlesize': u'large',\n",
       "          u'axes.titleweight': u'normal',\n",
       "          u'axes.unicode_minus': True,\n",
       "          u'axes.xmargin': 0.0,\n",
       "          u'axes.ymargin': 0.0,\n",
       "          u'axes3d.grid': True,\n",
       "          u'backend': 'module://ipykernel.pylab.backend_inline',\n",
       "          u'backend.qt4': u'PyQt4',\n",
       "          u'backend.qt5': u'PyQt5',\n",
       "          u'backend_fallback': True,\n",
       "          u'boxplot.bootstrap': None,\n",
       "          u'boxplot.boxprops.color': u'b',\n",
       "          u'boxplot.boxprops.linestyle': u'-',\n",
       "          u'boxplot.boxprops.linewidth': 1.0,\n",
       "          u'boxplot.capprops.color': u'k',\n",
       "          u'boxplot.capprops.linestyle': u'-',\n",
       "          u'boxplot.capprops.linewidth': 1.0,\n",
       "          u'boxplot.flierprops.color': u'b',\n",
       "          u'boxplot.flierprops.linestyle': u'-',\n",
       "          u'boxplot.flierprops.linewidth': 1.0,\n",
       "          u'boxplot.flierprops.marker': u'+',\n",
       "          u'boxplot.flierprops.markeredgecolor': u'k',\n",
       "          u'boxplot.flierprops.markerfacecolor': u'b',\n",
       "          u'boxplot.flierprops.markersize': 6.0,\n",
       "          u'boxplot.meanline': False,\n",
       "          u'boxplot.meanprops.color': u'r',\n",
       "          u'boxplot.meanprops.linestyle': u'-',\n",
       "          u'boxplot.meanprops.linewidth': 1.0,\n",
       "          u'boxplot.medianprops.color': u'r',\n",
       "          u'boxplot.medianprops.linestyle': u'-',\n",
       "          u'boxplot.medianprops.linewidth': 1.0,\n",
       "          u'boxplot.notch': False,\n",
       "          u'boxplot.patchartist': False,\n",
       "          u'boxplot.showbox': True,\n",
       "          u'boxplot.showcaps': True,\n",
       "          u'boxplot.showfliers': True,\n",
       "          u'boxplot.showmeans': False,\n",
       "          u'boxplot.vertical': True,\n",
       "          u'boxplot.whiskerprops.color': u'b',\n",
       "          u'boxplot.whiskerprops.linestyle': u'--',\n",
       "          u'boxplot.whiskerprops.linewidth': 1.0,\n",
       "          u'boxplot.whiskers': 1.5,\n",
       "          u'contour.corner_mask': True,\n",
       "          u'contour.negative_linestyle': u'dashed',\n",
       "          u'datapath': u'/Users/croach/anaconda/envs/mpl/lib/python2.7/site-packages/matplotlib/mpl-data',\n",
       "          u'docstring.hardcopy': False,\n",
       "          u'errorbar.capsize': 3.0,\n",
       "          u'examples.directory': u'',\n",
       "          u'figure.autolayout': False,\n",
       "          u'figure.dpi': 80.0,\n",
       "          u'figure.edgecolor': (1, 1, 1, 0),\n",
       "          u'figure.facecolor': (1, 1, 1, 0),\n",
       "          u'figure.figsize': [6.0, 4.0],\n",
       "          u'figure.frameon': True,\n",
       "          u'figure.max_open_warning': 20,\n",
       "          u'figure.subplot.bottom': 0.125,\n",
       "          u'figure.subplot.hspace': 0.2,\n",
       "          u'figure.subplot.left': 0.125,\n",
       "          u'figure.subplot.right': 0.9,\n",
       "          u'figure.subplot.top': 0.9,\n",
       "          u'figure.subplot.wspace': 0.2,\n",
       "          u'figure.titlesize': u'medium',\n",
       "          u'figure.titleweight': u'normal',\n",
       "          u'font.cursive': [u'Apple Chancery',\n",
       "                            u'Textile',\n",
       "                            u'Zapf Chancery',\n",
       "                            u'Sand',\n",
       "                            u'Script MT',\n",
       "                            u'Felipa',\n",
       "                            u'cursive'],\n",
       "          u'font.family': [u'sans-serif'],\n",
       "          u'font.fantasy': [u'Comic Sans MS',\n",
       "                            u'Chicago',\n",
       "                            u'Charcoal',\n",
       "                            u'ImpactWestern',\n",
       "                            u'Humor Sans',\n",
       "                            u'fantasy'],\n",
       "          u'font.monospace': [u'Bitstream Vera Sans Mono',\n",
       "                              u'DejaVu Sans Mono',\n",
       "                              u'Andale Mono',\n",
       "                              u'Nimbus Mono L',\n",
       "                              u'Courier New',\n",
       "                              u'Courier',\n",
       "                              u'Fixed',\n",
       "                              u'Terminal',\n",
       "                              u'monospace'],\n",
       "          u'font.sans-serif': [u'Bitstream Vera Sans',\n",
       "                               u'DejaVu Sans',\n",
       "                               u'Lucida Grande',\n",
       "                               u'Verdana',\n",
       "                               u'Geneva',\n",
       "                               u'Lucid',\n",
       "                               u'Arial',\n",
       "                               u'Helvetica',\n",
       "                               u'Avant Garde',\n",
       "                               u'sans-serif'],\n",
       "          u'font.serif': [u'Bitstream Vera Serif',\n",
       "                          u'DejaVu Serif',\n",
       "                          u'New Century Schoolbook',\n",
       "                          u'Century Schoolbook L',\n",
       "                          u'Utopia',\n",
       "                          u'ITC Bookman',\n",
       "                          u'Bookman',\n",
       "                          u'Nimbus Roman No9 L',\n",
       "                          u'Times New Roman',\n",
       "                          u'Times',\n",
       "                          u'Palatino',\n",
       "                          u'Charter',\n",
       "                          u'serif'],\n",
       "          u'font.size': 10.0,\n",
       "          u'font.stretch': u'normal',\n",
       "          u'font.style': u'normal',\n",
       "          u'font.variant': u'normal',\n",
       "          u'font.weight': u'normal',\n",
       "          u'grid.alpha': 1.0,\n",
       "          u'grid.color': u'k',\n",
       "          u'grid.linestyle': u':',\n",
       "          u'grid.linewidth': 0.5,\n",
       "          u'image.aspect': u'equal',\n",
       "          u'image.cmap': u'jet',\n",
       "          u'image.composite_image': True,\n",
       "          u'image.interpolation': u'bilinear',\n",
       "          u'image.lut': 256,\n",
       "          u'image.origin': u'upper',\n",
       "          u'image.resample': False,\n",
       "          u'interactive': True,\n",
       "          u'keymap.all_axes': [u'a'],\n",
       "          u'keymap.back': [u'left', u'c', u'backspace'],\n",
       "          u'keymap.forward': [u'right', u'v'],\n",
       "          u'keymap.fullscreen': [u'f', u'ctrl+f'],\n",
       "          u'keymap.grid': [u'g'],\n",
       "          u'keymap.home': [u'h', u'r', u'home'],\n",
       "          u'keymap.pan': [u'p'],\n",
       "          u'keymap.quit': [u'ctrl+w', u'cmd+w'],\n",
       "          u'keymap.save': [u's', u'ctrl+s'],\n",
       "          u'keymap.xscale': [u'k', u'L'],\n",
       "          u'keymap.yscale': [u'l'],\n",
       "          u'keymap.zoom': [u'o'],\n",
       "          u'legend.borderaxespad': 0.5,\n",
       "          u'legend.borderpad': 0.4,\n",
       "          u'legend.columnspacing': 2.0,\n",
       "          u'legend.edgecolor': u'inherit',\n",
       "          u'legend.facecolor': u'inherit',\n",
       "          u'legend.fancybox': False,\n",
       "          u'legend.fontsize': u'large',\n",
       "          u'legend.framealpha': None,\n",
       "          u'legend.frameon': True,\n",
       "          u'legend.handleheight': 0.7,\n",
       "          u'legend.handlelength': 2.0,\n",
       "          u'legend.handletextpad': 0.8,\n",
       "          u'legend.isaxes': True,\n",
       "          u'legend.labelspacing': 0.5,\n",
       "          u'legend.loc': u'upper right',\n",
       "          u'legend.markerscale': 1.0,\n",
       "          u'legend.numpoints': 2,\n",
       "          u'legend.scatterpoints': 3,\n",
       "          u'legend.shadow': False,\n",
       "          u'lines.antialiased': True,\n",
       "          u'lines.color': u'b',\n",
       "          u'lines.dash_capstyle': u'butt',\n",
       "          u'lines.dash_joinstyle': u'round',\n",
       "          u'lines.linestyle': u'-',\n",
       "          u'lines.linewidth': 1.0,\n",
       "          u'lines.marker': u'None',\n",
       "          u'lines.markeredgewidth': 0.5,\n",
       "          u'lines.markersize': 6.0,\n",
       "          u'lines.solid_capstyle': u'projecting',\n",
       "          u'lines.solid_joinstyle': u'round',\n",
       "          u'markers.fillstyle': u'full',\n",
       "          u'mathtext.bf': u'serif:bold',\n",
       "          u'mathtext.cal': u'cursive',\n",
       "          u'mathtext.default': u'it',\n",
       "          u'mathtext.fallback_to_cm': True,\n",
       "          u'mathtext.fontset': u'cm',\n",
       "          u'mathtext.it': u'serif:italic',\n",
       "          u'mathtext.rm': u'serif',\n",
       "          u'mathtext.sf': u'sans\\\\-serif',\n",
       "          u'mathtext.tt': u'monospace',\n",
       "          u'nbagg.transparent': True,\n",
       "          u'patch.antialiased': True,\n",
       "          u'patch.edgecolor': u'k',\n",
       "          u'patch.facecolor': u'b',\n",
       "          u'patch.linewidth': 1.0,\n",
       "          u'path.effects': [],\n",
       "          u'path.simplify': True,\n",
       "          u'path.simplify_threshold': 0.1111111111111111,\n",
       "          u'path.sketch': None,\n",
       "          u'path.snap': True,\n",
       "          u'pdf.compression': 6,\n",
       "          u'pdf.fonttype': 3,\n",
       "          u'pdf.inheritcolor': False,\n",
       "          u'pdf.use14corefonts': False,\n",
       "          u'pgf.debug': False,\n",
       "          u'pgf.preamble': [],\n",
       "          u'pgf.rcfonts': True,\n",
       "          u'pgf.texsystem': u'xelatex',\n",
       "          u'plugins.directory': u'.matplotlib_plugins',\n",
       "          u'polaraxes.grid': True,\n",
       "          u'ps.distiller.res': 6000,\n",
       "          u'ps.fonttype': 3,\n",
       "          u'ps.papersize': u'letter',\n",
       "          u'ps.useafm': False,\n",
       "          u'ps.usedistiller': False,\n",
       "          u'savefig.bbox': None,\n",
       "          u'savefig.directory': u'~',\n",
       "          u'savefig.dpi': 72.0,\n",
       "          u'savefig.edgecolor': u'w',\n",
       "          u'savefig.facecolor': u'w',\n",
       "          u'savefig.format': u'png',\n",
       "          u'savefig.frameon': True,\n",
       "          u'savefig.jpeg_quality': 95,\n",
       "          u'savefig.orientation': u'portrait',\n",
       "          u'savefig.pad_inches': 0.1,\n",
       "          u'savefig.transparent': False,\n",
       "          u'svg.fonttype': u'path',\n",
       "          u'svg.image_inline': True,\n",
       "          u'svg.image_noscale': False,\n",
       "          u'text.antialiased': True,\n",
       "          u'text.color': u'k',\n",
       "          u'text.dvipnghack': None,\n",
       "          u'text.hinting': u'auto',\n",
       "          u'text.hinting_factor': 8,\n",
       "          u'text.latex.preamble': [],\n",
       "          u'text.latex.preview': False,\n",
       "          u'text.latex.unicode': False,\n",
       "          u'text.usetex': False,\n",
       "          u'timezone': u'UTC',\n",
       "          u'tk.window_focus': False,\n",
       "          u'toolbar': u'toolbar2',\n",
       "          u'verbose.fileo': u'sys.stdout',\n",
       "          u'verbose.level': u'silent',\n",
       "          u'webagg.open_in_browser': True,\n",
       "          u'webagg.port': 8988,\n",
       "          u'webagg.port_retries': 50,\n",
       "          u'xtick.color': u'k',\n",
       "          u'xtick.direction': u'in',\n",
       "          u'xtick.labelsize': u'medium',\n",
       "          u'xtick.major.pad': 4.0,\n",
       "          u'xtick.major.size': 4.0,\n",
       "          u'xtick.major.width': 0.5,\n",
       "          u'xtick.minor.pad': 4.0,\n",
       "          u'xtick.minor.size': 2.0,\n",
       "          u'xtick.minor.visible': False,\n",
       "          u'xtick.minor.width': 0.5,\n",
       "          u'ytick.color': u'k',\n",
       "          u'ytick.direction': u'in',\n",
       "          u'ytick.labelsize': u'medium',\n",
       "          u'ytick.major.pad': 4.0,\n",
       "          u'ytick.major.size': 4.0,\n",
       "          u'ytick.major.width': 0.5,\n",
       "          u'ytick.minor.pad': 4.0,\n",
       "          u'ytick.minor.size': 2.0,\n",
       "          u'ytick.minor.visible': False,\n",
       "          u'ytick.minor.width': 0.5})"
      ]
     },
     "execution_count": 2,
     "metadata": {},
     "output_type": "execute_result"
    }
   ],
   "source": [
    "mpl.rcParams"
   ]
  },
  {
   "cell_type": "markdown",
   "metadata": {},
   "source": [
    "Judging by the size of the `rcParams` object, it looks like matplotlib gives us quite a bit of capability when it comes to changing its look and feel. And, all we need to do to make these changes, is simply update the values in this dictionary. But, before we start changing the default configuration of matplotlib, let's take one last look at a typical matplotlib plot just to remind ourselves of how they look."
   ]
  },
  {
   "cell_type": "code",
   "execution_count": 3,
   "metadata": {
    "collapsed": false
   },
   "outputs": [
    {
     "data": {
      "image/png": "[encoded data removed]",
      "text/plain": [
       "<matplotlib.figure.Figure at 0x106272750>"
      ]
     },
     "metadata": {
      "image/png": {
       "height": 255,
       "width": 383
      }
     },
     "output_type": "display_data"
    }
   ],
   "source": [
    "plt.plot(np.random.randn(20));"
   ]
  },
  {
   "cell_type": "markdown",
   "metadata": {},
   "source": [
    "## Configuring matplotlib\n",
    "\n",
    "Now, we're ready to start playing around with the look and feel of our plots. Since we created a simple line graph above, we'll stick with that as our example plot, so, let's see what kinds of things we can change with respect to the lines in our graphs.\n",
    "\n",
    "The code below, loops through the `rcParams` object, and prints out only the line-specific keys and their corresponding default values."
   ]
  },
  {
   "cell_type": "code",
   "execution_count": 4,
   "metadata": {
    "collapsed": false
   },
   "outputs": [
    {
     "name": "stdout",
     "output_type": "stream",
     "text": [
      "lines.markeredgewidth                   :0.5\n",
      "lines.markersize                        :6.0\n",
      "lines.solid_joinstyle                   :round\n",
      "lines.marker                            :None\n",
      "lines.linestyle                         :-\n",
      "lines.linewidth                         :1.0\n",
      "lines.solid_capstyle                    :projecting\n",
      "lines.dash_capstyle                     :butt\n",
      "lines.antialiased                       :True\n",
      "lines.dash_joinstyle                    :round\n",
      "lines.color                             :b\n"
     ]
    }
   ],
   "source": [
    "for key, val in mpl.rcParams.items():\n",
    "    if key.startswith('lines.'):\n",
    "        print '%-40s:%s' % (key, val)"
   ]
  },
  {
   "cell_type": "markdown",
   "metadata": {},
   "source": [
    "Hmm, it looks like there's quite a few settings we can change with respect to the appearance of the lines in our plots. Let's start with something simple, but obvious, like the width of the lines in our graphs. \n",
    "\n",
    "According to the list of key/value pairs we printed out in the previous cell, the current line width is just 1.0. Let's bump that up quite a bit to really make our lines stand out. Let's try, say 10."
   ]
  },
  {
   "cell_type": "code",
   "execution_count": 5,
   "metadata": {
    "collapsed": true
   },
   "outputs": [],
   "source": [
    "mpl.rcParams['lines.linewidth'] = 10"
   ]
  },
  {
   "cell_type": "markdown",
   "metadata": {},
   "source": [
    "Now, let's try our plot again and see how it looks with our default line width set to a value of 10."
   ]
  },
  {
   "cell_type": "code",
   "execution_count": 6,
   "metadata": {
    "collapsed": false
   },
   "outputs": [
    {
     "data": {
      "image/png": "[encoded data removed]",
      "text/plain": [
       "<matplotlib.figure.Figure at 0x1062e7dd0>"
      ]
     },
     "metadata": {
      "image/png": {
       "height": 255,
       "width": 383
      }
     },
     "output_type": "display_data"
    }
   ],
   "source": [
    "plt.plot(np.random.randn(20));"
   ]
  },
  {
   "cell_type": "markdown",
   "metadata": {},
   "source": [
    "Well, that looks significantly different, but we can take it even further. \n",
    "\n",
    "Now, if we wanted to set several different line attributes, instead of just one, we could do exactly what we did above, which is to set each attribute individually, but matplotlib also provides a function called `rc()` that allows us to set several attributes for a specific group with a single line of code. \n",
    "\n",
    "The code in the next cell uses the `rc()` function to set the line width, style, and marker shape all with one function call."
   ]
  },
  {
   "cell_type": "code",
   "execution_count": 7,
   "metadata": {
    "collapsed": true
   },
   "outputs": [],
   "source": [
    "mpl.rc('lines', linewidth=2, linestyle='--', marker='s')"
   ]
  },
  {
   "cell_type": "markdown",
   "metadata": {},
   "source": [
    "And, now, we can run our line graph example again to see what kind of effect the last bit of code had on the look and feel of our plots."
   ]
  },
  {
   "cell_type": "code",
   "execution_count": 8,
   "metadata": {
    "collapsed": false
   },
   "outputs": [
    {
     "data": {
      "image/png": "[encoded data removed]",
      "text/plain": [
       "<matplotlib.figure.Figure at 0x1067a24d0>"
      ]
     },
     "metadata": {
      "image/png": {
       "height": 255,
       "width": 383
      }
     },
     "output_type": "display_data"
    }
   ],
   "source": [
    "plt.plot(np.random.randn(20));"
   ]
  },
  {
   "cell_type": "markdown",
   "metadata": {},
   "source": [
    "That's pretty cool that we can change the look and feel of all our plots with just a few lines of code. \n",
    "\n",
    "Now, we can create custom styles that look quite a bit better than the default appearance that ships with matplotlib. The only problem though, is that it's kind of a pain to copy and paste a bunch of commands to each notebook, script, or interactive terminal session to change the look and feel of our plots. If we've found a style that we like, wouldn't it be better if we could just make that our default style? \n",
    "\n",
    "Well, fortunately, you can! In fact, matplotlib makes this kind of configuration super easy. You simply need to create a file called `matplotlibrc` to hold your desired default settings.\n",
    "\n",
    "## The matplotlibrc File\n",
    "\n",
    "The `matplotlibrc` file can be stored in one four different locations and matplotlib will look for this file in each location in the following order.\n",
    "\n",
    "First, you can add the file to your current working directory to give the current project its own specific custom set of properties. Second, you can define the environment variable `$MATPLOTLIBRC` to the hold a directory where you would like to keep your global `matplotlibrc` file. Next, you can place the file in your default config directory, which you can get by calling the `get_configdir()` function. Finally, if matplotlib cannot find a `matplotlibrc` file in one of these locations, it will load the file that was installed with matplotlib. \n",
    "\n",
    "This last location is the home of the default configuration file that comes with a standard matplotlib installation and you should never make any changes directly to it, but that doesn't mean that you can't take a look at its contents to get an idea of what a `matplotlibrc` file looks like. \n",
    "\n",
    "We can find this file by calling `matplotlib_fname()` function. This function will return the location of the file currently being used, and since we are currently using the default settings that matplotlib ships with, this should return the location of the default `matplotlibrc` file."
   ]
  },
  {
   "cell_type": "code",
   "execution_count": 10,
   "metadata": {
    "collapsed": false
   },
   "outputs": [
    {
     "data": {
      "text/plain": [
       "u'/Users/croach/anaconda/envs/mpl/lib/python2.7/site-packages/matplotlib/mpl-data/matplotlibrc'"
      ]
     },
     "execution_count": 10,
     "metadata": {},
     "output_type": "execute_result"
    }
   ],
   "source": [
    "mpl.matplotlib_fname()"
   ]
  },
  {
   "cell_type": "markdown",
   "metadata": {},
   "source": [
    "Let's `cat` the file now to get a look at a typical matplotlibrc file."
   ]
  },
  {
   "cell_type": "code",
   "execution_count": 11,
   "metadata": {
    "collapsed": false
   },
   "outputs": [
    {
     "name": "stdout",
     "output_type": "stream",
     "text": [
      "### MATPLOTLIBRC FORMAT\r\n",
      "\r\n",
      "# This is a sample matplotlib configuration file - you can find a copy\r\n",
      "# of it on your system in\r\n",
      "# site-packages/matplotlib/mpl-data/matplotlibrc.  If you edit it\r\n",
      "# there, please note that it will be overwritten in your next install.\r\n",
      "# If you want to keep a permanent local copy that will not be\r\n",
      "# overwritten, place it in the following location:\r\n",
      "# unix/linux:\r\n",
      "#     $HOME/.config/matplotlib/matplotlibrc or\r\n",
      "#     $XDG_CONFIG_HOME/matplotlib/matplotlibrc (if $XDG_CONFIG_HOME is set)\r\n",
      "# other platforms:\r\n",
      "#     $HOME/.matplotlib/matplotlibrc\r\n",
      "#\r\n",
      "# See http://matplotlib.org/users/customizing.html#the-matplotlibrc-file for\r\n",
      "# more details on the paths which are checked for the configuration file.\r\n",
      "#\r\n",
      "# This file is best viewed in a editor which supports python mode\r\n",
      "# syntax highlighting. Blank lines, or lines starting with a comment\r\n",
      "# symbol, are ignored, as are trailing comments.  Other lines must\r\n",
      "# have the format\r\n",
      "#    key : val # optional comment\r\n",
      "#\r\n",
      "# Colors: for the color values below, you can either use - a\r\n",
      "# matplotlib color string, such as r, k, or b - an rgb tuple, such as\r\n",
      "# (1.0, 0.5, 0.0) - a hex string, such as ff00ff or #ff00ff - a scalar\r\n",
      "# grayscale intensity such as 0.75 - a legal html color name, e.g., red,\r\n",
      "# blue, darkslategray\r\n",
      "\r\n",
      "#### CONFIGURATION BEGINS HERE\r\n",
      "\r\n",
      "# The default backend; one of GTK GTKAgg GTKCairo GTK3Agg GTK3Cairo\r\n",
      "# CocoaAgg MacOSX Qt4Agg Qt5Agg TkAgg WX WXAgg Agg Cairo GDK PS PDF SVG\r\n",
      "# Template.\r\n",
      "# You can also deploy your own backend outside of matplotlib by\r\n",
      "# referring to the module name (which must be in the PYTHONPATH) as\r\n",
      "# 'module://my_backend'.\r\n",
      "backend      : tkagg\r\n",
      "\r\n",
      "# If you are using the Qt4Agg backend, you can choose here\r\n",
      "# to use the PyQt4 bindings or the newer PySide bindings to\r\n",
      "# the underlying Qt4 toolkit.\r\n",
      "#backend.qt4 : PyQt4        # PyQt4 | PySide\r\n",
      "\r\n",
      "# Note that this can be overridden by the environment variable\r\n",
      "# QT_API used by Enthought Tool Suite (ETS); valid values are\r\n",
      "# \"pyqt\" and \"pyside\".  The \"pyqt\" setting has the side effect of\r\n",
      "# forcing the use of Version 2 API for QString and QVariant.\r\n",
      "\r\n",
      "# The port to use for the web server in the WebAgg backend.\r\n",
      "# webagg.port : 8888\r\n",
      "\r\n",
      "# If webagg.port is unavailable, a number of other random ports will\r\n",
      "# be tried until one that is available is found.\r\n",
      "# webagg.port_retries : 50\r\n",
      "\r\n",
      "# When True, open the webbrowser to the plot that is shown\r\n",
      "# webagg.open_in_browser : True\r\n",
      "\r\n",
      "# When True, the figures rendered in the nbagg backend are created with\r\n",
      "# a transparent background.\r\n",
      "# nbagg.transparent : True\r\n",
      "\r\n",
      "# if you are running pyplot inside a GUI and your backend choice\r\n",
      "# conflicts, we will automatically try to find a compatible one for\r\n",
      "# you if backend_fallback is True\r\n",
      "#backend_fallback: True\r\n",
      "\r\n",
      "#interactive  : False\r\n",
      "#toolbar      : toolbar2   # None | toolbar2  (\"classic\" is deprecated)\r\n",
      "#timezone     : UTC        # a pytz timezone string, e.g., US/Central or Europe/Paris\r\n",
      "\r\n",
      "# Where your matplotlib data lives if you installed to a non-default\r\n",
      "# location.  This is where the matplotlib fonts, bitmaps, etc reside\r\n",
      "#datapath : /home/jdhunter/mpldata\r\n",
      "\r\n",
      "\r\n",
      "### LINES\r\n",
      "# See http://matplotlib.org/api/artist_api.html#module-matplotlib.lines for more\r\n",
      "# information on line properties.\r\n",
      "#lines.linewidth   : 1.0     # line width in points\r\n",
      "#lines.linestyle   : -       # solid line\r\n",
      "#lines.color       : blue    # has no affect on plot(); see axes.prop_cycle\r\n",
      "#lines.marker      : None    # the default marker\r\n",
      "#lines.markeredgewidth  : 0.5     # the line width around the marker symbol\r\n",
      "#lines.markersize  : 6            # markersize, in points\r\n",
      "#lines.dash_joinstyle : miter        # miter|round|bevel\r\n",
      "#lines.dash_capstyle : butt          # butt|round|projecting\r\n",
      "#lines.solid_joinstyle : miter       # miter|round|bevel\r\n",
      "#lines.solid_capstyle : projecting   # butt|round|projecting\r\n",
      "#lines.antialiased : True         # render lines in antialised (no jaggies)\r\n",
      "\r\n",
      "#markers.fillstyle: full # full|left|right|bottom|top|none\r\n",
      "\r\n",
      "### PATCHES\r\n",
      "# Patches are graphical objects that fill 2D space, like polygons or\r\n",
      "# circles.  See\r\n",
      "# http://matplotlib.org/api/artist_api.html#module-matplotlib.patches\r\n",
      "# information on patch properties\r\n",
      "#patch.linewidth        : 1.0     # edge width in points\r\n",
      "#patch.facecolor        : blue\r\n",
      "#patch.edgecolor        : black\r\n",
      "#patch.antialiased      : True    # render patches in antialised (no jaggies)\r\n",
      "\r\n",
      "### FONT\r\n",
      "#\r\n",
      "# font properties used by text.Text.  See\r\n",
      "# http://matplotlib.org/api/font_manager_api.html for more\r\n",
      "# information on font properties.  The 6 font properties used for font\r\n",
      "# matching are given below with their default values.\r\n",
      "#\r\n",
      "# The font.family property has five values: 'serif' (e.g., Times),\r\n",
      "# 'sans-serif' (e.g., Helvetica), 'cursive' (e.g., Zapf-Chancery),\r\n",
      "# 'fantasy' (e.g., Western), and 'monospace' (e.g., Courier).  Each of\r\n",
      "# these font families has a default list of font names in decreasing\r\n",
      "# order of priority associated with them.  When text.usetex is False,\r\n",
      "# font.family may also be one or more concrete font names.\r\n",
      "#\r\n",
      "# The font.style property has three values: normal (or roman), italic\r\n",
      "# or oblique.  The oblique style will be used for italic, if it is not\r\n",
      "# present.\r\n",
      "#\r\n",
      "# The font.variant property has two values: normal or small-caps.  For\r\n",
      "# TrueType fonts, which are scalable fonts, small-caps is equivalent\r\n",
      "# to using a font size of 'smaller', or about 83% of the current font\r\n",
      "# size.\r\n",
      "#\r\n",
      "# The font.weight property has effectively 13 values: normal, bold,\r\n",
      "# bolder, lighter, 100, 200, 300, ..., 900.  Normal is the same as\r\n",
      "# 400, and bold is 700.  bolder and lighter are relative values with\r\n",
      "# respect to the current weight.\r\n",
      "#\r\n",
      "# The font.stretch property has 11 values: ultra-condensed,\r\n",
      "# extra-condensed, condensed, semi-condensed, normal, semi-expanded,\r\n",
      "# expanded, extra-expanded, ultra-expanded, wider, and narrower.  This\r\n",
      "# property is not currently implemented.\r\n",
      "#\r\n",
      "# The font.size property is the default font size for text, given in pts.\r\n",
      "# 12pt is the standard value.\r\n",
      "#\r\n",
      "#font.family         : sans-serif\r\n",
      "#font.style          : normal\r",
      "\r\n",
      "#font.variant        : normal\r\n",
      "#font.weight         : medium\r\n",
      "#font.stretch        : normal\r\n",
      "# note that font.size controls default text sizes.  To configure\r\n",
      "# special text sizes tick labels, axes, labels, title, etc, see the rc\r\n",
      "# settings for axes and ticks. Special text sizes can be defined\r\n",
      "# relative to font.size, using the following values: xx-small, x-small,\r\n",
      "# small, medium, large, x-large, xx-large, larger, or smaller\r\n",
      "#font.size           : 12.0\r\n",
      "#font.serif          : Bitstream Vera Serif, New Century Schoolbook, Century Schoolbook L, Utopia, ITC Bookman, Bookman, Nimbus Roman No9 L, Times New Roman, Times, Palatino, Charter, serif\r\n",
      "#font.sans-serif     : Bitstream Vera Sans, Lucida Grande, Verdana, Geneva, Lucid, Arial, Helvetica, Avant Garde, sans-serif\r\n",
      "#font.cursive        : Apple Chancery, Textile, Zapf Chancery, Sand, Script MT, Felipa, cursive\r\n",
      "#font.fantasy        : Comic Sans MS, Chicago, Charcoal, Impact, Western, Humor Sans, fantasy\r\n",
      "#font.monospace      : Bitstream Vera Sans Mono, Andale Mono, Nimbus Mono L, Courier New, Courier, Fixed, Terminal, monospace\r\n",
      "\r\n",
      "### TEXT\r\n",
      "# text properties used by text.Text.  See\r\n",
      "# http://matplotlib.org/api/artist_api.html#module-matplotlib.text for more\r\n",
      "# information on text properties\r\n",
      "\r\n",
      "#text.color          : black\r\n",
      "\r\n",
      "### LaTeX customizations. See http://wiki.scipy.org/Cookbook/Matplotlib/UsingTex\r\n",
      "#text.usetex         : False  # use latex for all text handling. The following fonts\r\n",
      "                              # are supported through the usual rc parameter settings:\r\n",
      "                              # new century schoolbook, bookman, times, palatino,\r\n",
      "                              # zapf chancery, charter, serif, sans-serif, helvetica,\r\n",
      "                              # avant garde, courier, monospace, computer modern roman,\r\n",
      "                              # computer modern sans serif, computer modern typewriter\r\n",
      "                              # If another font is desired which can loaded using the\r\n",
      "                              # LaTeX \\usepackage command, please inquire at the\r\n",
      "                              # matplotlib mailing list\r\n",
      "#text.latex.unicode : False # use \"ucs\" and \"inputenc\" LaTeX packages for handling\r\n",
      "                            # unicode strings.\r\n",
      "#text.latex.preamble :  # IMPROPER USE OF THIS FEATURE WILL LEAD TO LATEX FAILURES\r\n",
      "                            # AND IS THEREFORE UNSUPPORTED. PLEASE DO NOT ASK FOR HELP\r\n",
      "                            # IF THIS FEATURE DOES NOT DO WHAT YOU EXPECT IT TO.\r\n",
      "                            # preamble is a comma separated list of LaTeX statements\r\n",
      "                            # that are included in the LaTeX document preamble.\r\n",
      "                            # An example:\r\n",
      "                            # text.latex.preamble : \\usepackage{bm},\\usepackage{euler}\r\n",
      "                            # The following packages are always loaded with usetex, so\r\n",
      "                            # beware of package collisions: color, geometry, graphicx,\r\n",
      "                            # type1cm, textcomp. Adobe Postscript (PSSNFS) font packages\r\n",
      "                            # may also be loaded, depending on your font settings\r\n",
      "\r\n",
      "#text.dvipnghack : None      # some versions of dvipng don't handle alpha\r\n",
      "                             # channel properly.  Use True to correct\r\n",
      "                             # and flush ~/.matplotlib/tex.cache\r\n",
      "                             # before testing and False to force\r\n",
      "                             # correction off.  None will try and\r\n",
      "                             # guess based on your dvipng version\r\n",
      "\r\n",
      "#text.hinting : auto   # May be one of the following:\r\n",
      "                       #   'none': Perform no hinting\r\n",
      "                       #   'auto': Use freetype's autohinter\r\n",
      "                       #   'native': Use the hinting information in the\r\n",
      "                       #             font file, if available, and if your\r\n",
      "                       #             freetype library supports it\r\n",
      "                       #   'either': Use the native hinting information,\r\n",
      "                       #             or the autohinter if none is available.\r\n",
      "                       # For backward compatibility, this value may also be\r\n",
      "                       # True === 'auto' or False === 'none'.\r\n",
      "#text.hinting_factor : 8 # Specifies the amount of softness for hinting in the\r\n",
      "                         # horizontal direction.  A value of 1 will hint to full\r\n",
      "                         # pixels.  A value of 2 will hint to half pixels etc.\r\n",
      "\r\n",
      "#text.antialiased : True # If True (default), the text will be antialiased.\r\n",
      "                         # This only affects the Agg backend.\r\n",
      "\r\n",
      "# The following settings allow you to select the fonts in math mode.\r\n",
      "# They map from a TeX font name to a fontconfig font pattern.\r\n",
      "# These settings are only used if mathtext.fontset is 'custom'.\r\n",
      "# Note that this \"custom\" mode is unsupported and may go away in the\r\n",
      "# future.\r\n",
      "#mathtext.cal : cursive\r\n",
      "#mathtext.rm  : serif\r\n",
      "#mathtext.tt  : monospace\r\n",
      "#mathtext.it  : serif:italic\r\n",
      "#mathtext.bf  : serif:bold\r\n",
      "#mathtext.sf  : sans\r\n",
      "#mathtext.fontset : cm # Should be 'cm' (Computer Modern), 'stix',\r\n",
      "                       # 'stixsans' or 'custom'\r\n",
      "#mathtext.fallback_to_cm : True  # When True, use symbols from the Computer Modern\r\n",
      "                                 # fonts when a symbol can not be found in one of\r\n",
      "                                 # the custom math fonts.\r\n",
      "\r\n",
      "#mathtext.default : it # The default font to use for math.\r\n",
      "                       # Can be any of the LaTeX font names, including\r\n",
      "                       # the special name \"regular\" for the same font\r\n",
      "                       # used in regular text.\r\n",
      "\r\n",
      "### AXES\r\n",
      "# default face and edge color, default tick sizes,\r\n",
      "# default fontsizes for ticklabels, and so on.  See\r\n",
      "# http://matplotlib.org/api/axes_api.html#module-matplotlib.axes\r\n",
      "#axes.hold           : True    # whether to clear the axes by default on\r\n",
      "#axes.facecolor      : white   # axes background color\r\n",
      "#axes.edgecolor      : black   # axes edge color\r\n",
      "#axes.linewidth      : 1.0     # edge linewidth\r\n",
      "#axes.grid           : False   # display grid or not\r\n",
      "#axes.titlesize      : large   # fontsize of the axes title\r\n",
      "#axes.labelsize      : medium  # fontsize of the x any y labels\r\n",
      "#axes.labelpad       : 5.0     # space between label and axis\r\n",
      "#axes.labelweight    : normal  # weight of the x and y labels\r\n",
      "#axes.labelcolor     : black\r\n",
      "#axes.axisbelow      : False   # whether axis gridlines and ticks are below\r\n",
      "                               # the axes elements (lines, text, etc)\r\n",
      "\r\n",
      "#axes.formatter.limits : -7, 7 # use scientific notation if log10\r\n",
      "                               # of the axis range is smaller than the\r\n",
      "                               # first or larger than the second\r\n",
      "#axes.formatter.use_locale : False # When True, format tick labels\r\n",
      "                                   # according to the user's locale.\r\n",
      "                                   # For example, use ',' as a decimal\r\n",
      "                                   # separator in the fr_FR locale.\r\n",
      "#axes.formatter.use_mathtext : False # When True, use mathtext for scientific\r\n",
      "                                     # notation.\r\n",
      "#axes.formatter.useoffset      : True    # If True, the tick label formatter\r\n",
      "                                         # will default to labeling ticks relative\r\n",
      "                                         # to an offset when the data range is very\r\n",
      "                                         # small compared to the minimum absolute\r\n",
      "                                         # value of the data.\r\n",
      "\r\n",
      "#axes.unicode_minus  : True    # use unicode for the minus symbol\r\n",
      "                               # rather than hyphen.  See\r\n",
      "                               # http://en.wikipedia.org/wiki/Plus_and_minus_signs#Character_codes\r\n",
      "#axes.prop_cycle    : cycler('color', 'bgrcmyk')\r\n",
      "                                            # color cycle for plot lines\r\n",
      "                                            # as list of string colorspecs:\r\n",
      "                                            # single letter, long name, or\r\n",
      "                                            # web-style hex\r\n",
      "#axes.xmargin        : 0  # x margin.  See `axes.Axes.margins`\r\n",
      "#axes.ymargin        : 0  # y margin See `axes.Axes.margins`\r\n",
      "\r\n",
      "#polaraxes.grid      : True    # display grid on polar axes\r\n",
      "#axes3d.grid         : True    # display grid on 3d axes\r\n",
      "\r\n",
      "### TICKS\r\n",
      "# see http://matplotlib.org/api/axis_api.html#matplotlib.axis.Tick\r\n",
      "#xtick.major.size     : 4      # major tick size in points\r\n",
      "#xtick.minor.size     : 2      # minor tick size in points\r\n",
      "#xtick.major.width    : 0.5    # major tick width in points\r\n",
      "#xtick.minor.width    : 0.5    # minor tick width in points\r\n",
      "#xtick.major.pad      : 4      # distance to major tick label in points\r\n",
      "#xtick.minor.pad      : 4      # distance to the minor tick label in points\r\n",
      "#xtick.color          : k      # color of the tick labels\r\n",
      "#xtick.labelsize      : medium # fontsize of the tick labels\r\n",
      "#xtick.direction      : in     # direction: in, out, or inout\r\n",
      "\r\n",
      "#ytick.major.size     : 4      # major tick size in points\r\n",
      "#ytick.minor.size     : 2      # minor tick size in points\r\n",
      "#ytick.major.width    : 0.5    # major tick width in points\r\n",
      "#ytick.minor.width    : 0.5    # minor tick width in points\r\n",
      "#ytick.major.pad      : 4      # distance to major tick label in points\r\n",
      "#ytick.minor.pad      : 4      # distance to the minor tick label in points\r\n",
      "#ytick.color          : k      # color of the tick labels\r\n",
      "#ytick.labelsize      : medium # fontsize of the tick labels\r\n",
      "#ytick.direction      : in     # direction: in, out, or inout\r\n",
      "\r\n",
      "\r\n",
      "### GRIDS\r\n",
      "#grid.color       :   black   # grid color\r\n",
      "#grid.linestyle   :   :       # dotted\r\n",
      "#grid.linewidth   :   0.5     # in points\r\n",
      "#grid.alpha       :   1.0     # transparency, between 0.0 and 1.0\r\n",
      "\r\n",
      "### Legend\r\n",
      "#legend.fancybox      : False  # if True, use a rounded box for the\r\n",
      "                               # legend, else a rectangle\r\n",
      "#legend.isaxes        : True\r\n",
      "#legend.numpoints     : 2      # the number of points in the legend line\r\n",
      "#legend.fontsize      : large\r\n",
      "#legend.borderpad     : 0.5    # border whitespace in fontsize units\r\n",
      "#legend.markerscale   : 1.0    # the relative size of legend markers vs. original\r\n",
      "# the following dimensions are in axes coords\r\n",
      "#legend.labelspacing  : 0.5    # the vertical space between the legend entries in fraction of fontsize\r\n",
      "#legend.handlelength  : 2.     # the length of the legend lines in fraction of fontsize\r\n",
      "#legend.handleheight  : 0.7     # the height of the legend handle in fraction of fontsize\r\n",
      "#legend.handletextpad : 0.8    # the space between the legend line and legend text in fraction of fontsize\r\n",
      "#legend.borderaxespad : 0.5   # the border between the axes and legend edge in fraction of fontsize\r\n",
      "#legend.columnspacing : 2.    # the border between the axes and legend edge in fraction of fontsize\r\n",
      "#legend.shadow        : False\r\n",
      "#legend.frameon       : True   # whether or not to draw a frame around legend\r\n",
      "#legend.framealpha    : None    # opacity of of legend frame\r\n",
      "#legend.scatterpoints : 3 # number of scatter points\r\n",
      "\r\n",
      "### FIGURE\r\n",
      "# See http://matplotlib.org/api/figure_api.html#matplotlib.figure.Figure\r\n",
      "#figure.titlesize : medium     # size of the figure title\r\n",
      "#figure.titleweight : normal   # weight of the figure title\r\n",
      "#figure.figsize   : 8, 6    # figure size in inches\r\n",
      "#figure.dpi       : 80      # figure dots per inch\r\n",
      "#figure.facecolor : 0.75    # figure facecolor; 0.75 is scalar gray\r\n",
      "#figure.edgecolor : white   # figure edgecolor\r\n",
      "#figure.autolayout : False  # When True, automatically adjust subplot\r\n",
      "                            # parameters to make the plot fit the figure\r\n",
      "#figure.max_open_warning : 20  # The maximum number of figures to open through\r\n",
      "                               # the pyplot interface before emitting a warning.\r\n",
      "                               # If less than one this feature is disabled.\r\n",
      "\r\n",
      "# The figure subplot parameters.  All dimensions are a fraction of the\r\n",
      "# figure width or height\r\n",
      "#figure.subplot.left    : 0.125  # the left side of the subplots of the figure\r\n",
      "#figure.subplot.right   : 0.9    # the right side of the subplots of the figure\r\n",
      "#figure.subplot.bottom  : 0.1    # the bottom of the subplots of the figure\r\n",
      "#figure.subplot.top     : 0.9    # the top of the subplots of the figure\r\n",
      "#figure.subplot.wspace  : 0.2    # the amount of width reserved for blank space between subplots\r\n",
      "#figure.subplot.hspace  : 0.2    # the amount of height reserved for white space between subplots\r\n",
      "\r\n",
      "### IMAGES\r\n",
      "#image.aspect : equal             # equal | auto | a number\r\n",
      "#image.interpolation  : bilinear  # see help(imshow) for options\r\n",
      "#image.cmap   : jet               # gray | jet etc...\r\n",
      "#image.lut    : 256               # the size of the colormap lookup table\r\n",
      "#image.origin : upper             # lower | upper\r\n",
      "#image.resample  : False\r\n",
      "#image.composite_image : True     # When True, all the images on a set of axes are \r\n",
      "                                  # combined into a single composite image before \r\n",
      "                                  # saving a figure as a vector graphics file, \r\n",
      "                                  # such as a PDF.\r\n",
      "\r\n",
      "### CONTOUR PLOTS\r\n",
      "#contour.negative_linestyle : dashed # dashed | solid\r\n",
      "#contour.corner_mask        : True   # True | False | legacy\r\n",
      "\r\n",
      "### ERRORBAR PLOTS\r\n",
      "#errorbar.capsize : 3             # length of end cap on error bars in pixels\r\n",
      "\r\n",
      "### Agg rendering\r\n",
      "### Warning: experimental, 2008/10/10\r\n",
      "#agg.path.chunksize : 0           # 0 to disable; values in the range\r\n",
      "                                  # 10000 to 100000 can improve speed slightly\r\n",
      "                                  # and prevent an Agg rendering failure\r\n",
      "                                  # when plotting very large data sets,\r\n",
      "                                  # especially if they are very gappy.\r\n",
      "                                  # It may cause minor artifacts, though.\r\n",
      "                                  # A value of 20000 is probably a good\r\n",
      "                                  # starting point.\r\n",
      "### SAVING FIGURES\r\n",
      "#path.simplify : True   # When True, simplify paths by removing \"invisible\"\r\n",
      "                        # points to reduce file size and increase rendering\r\n",
      "                        # speed\r\n",
      "#path.simplify_threshold : 0.1  # The threshold of similarity below which\r\n",
      "                                # vertices will be removed in the simplification\r\n",
      "                                # process\r\n",
      "#path.snap : True # When True, rectilinear axis-aligned paths will be snapped to\r\n",
      "                  # the nearest pixel when certain criteria are met.  When False,\r\n",
      "                  # paths will never be snapped.\r\n",
      "#path.sketch : None # May be none, or a 3-tuple of the form (scale, length,\r\n",
      "                    # randomness).\r\n",
      "                    # *scale* is the amplitude of the wiggle\r\n",
      "                    # perpendicular to the line (in pixels).  *length*\r\n",
      "                    # is the length of the wiggle along the line (in\r\n",
      "                    # pixels).  *randomness* is the factor by which\r\n",
      "                    # the length is randomly scaled.\r\n",
      "\r\n",
      "# the default savefig params can be different from the display params\r\n",
      "# e.g., you may want a higher resolution, or to make the figure\r\n",
      "# background white\r\n",
      "#savefig.dpi         : 100      # figure dots per inch\r\n",
      "#savefig.facecolor   : white    # figure facecolor when saving\r\n",
      "#savefig.edgecolor   : white    # figure edgecolor when saving\r\n",
      "#savefig.format      : png      # png, ps, pdf, svg\r\n",
      "#savefig.bbox        : standard # 'tight' or 'standard'.\r\n",
      "                                # 'tight' is incompatible with pipe-based animation\r\n",
      "                                # backends but will workd with temporary file based ones:\r\n",
      "                                # e.g. setting animation.writer to ffmpeg will not work,\r\n",
      "                                # use ffmpeg_file instead\r\n",
      "#savefig.pad_inches  : 0.1      # Padding to be used when bbox is set to 'tight'\r\n",
      "#savefig.jpeg_quality: 95       # when a jpeg is saved, the default quality parameter.\r\n",
      "#savefig.directory   : ~        # default directory in savefig dialog box,\r\n",
      "                                # leave empty to always use current working directory\r\n",
      "#savefig.transparent : False    # setting that controls whether figures are saved with a\r\n",
      "                                # transparent background by default\r\n",
      "\r\n",
      "# tk backend params\r\n",
      "#tk.window_focus   : False    # Maintain shell focus for TkAgg\r\n",
      "\r\n",
      "# ps backend params\r\n",
      "#ps.papersize      : letter   # auto, letter, legal, ledger, A0-A10, B0-B10\r\n",
      "#ps.useafm         : False    # use of afm fonts, results in small files\r\n",
      "#ps.usedistiller   : False    # can be: None, ghostscript or xpdf\r\n",
      "                                          # Experimental: may produce smaller files.\r\n",
      "                                          # xpdf intended for production of publication quality files,\r\n",
      "                                          # but requires ghostscript, xpdf and ps2eps\r\n",
      "#ps.distiller.res  : 6000      # dpi\r\n",
      "#ps.fonttype       : 3         # Output Type 3 (Type3) or Type 42 (TrueType)\r\n",
      "\r\n",
      "# pdf backend params\r\n",
      "#pdf.compression   : 6 # integer from 0 to 9\r\n",
      "                       # 0 disables compression (good for debugging)\r\n",
      "#pdf.fonttype       : 3         # Output Type 3 (Type3) or Type 42 (TrueType)\r\n",
      "\r\n",
      "# svg backend params\r\n",
      "#svg.image_inline : True       # write raster image data directly into the svg file\r\n",
      "#svg.image_noscale : False     # suppress scaling of raster data embedded in SVG\r\n",
      "#svg.fonttype : 'path'         # How to handle SVG fonts:\r\n",
      "#    'none': Assume fonts are installed on the machine where the SVG will be viewed.\r\n",
      "#    'path': Embed characters as paths -- supported by most SVG renderers\r\n",
      "#    'svgfont': Embed characters as SVG fonts -- supported only by Chrome,\r\n",
      "#               Opera and Safari\r\n",
      "\r\n",
      "# docstring params\r\n",
      "#docstring.hardcopy = False  # set this when you want to generate hardcopy docstring\r\n",
      "\r\n",
      "# Set the verbose flags.  This controls how much information\r\n",
      "# matplotlib gives you at runtime and where it goes.  The verbosity\r\n",
      "# levels are: silent, helpful, debug, debug-annoying.  Any level is\r\n",
      "# inclusive of all the levels below it.  If your setting is \"debug\",\r\n",
      "# you'll get all the debug and helpful messages.  When submitting\r\n",
      "# problems to the mailing-list, please set verbose to \"helpful\" or \"debug\"\r\n",
      "# and paste the output into your report.\r\n",
      "#\r\n",
      "# The \"fileo\" gives the destination for any calls to verbose.report.\r\n",
      "# These objects can a filename, or a filehandle like sys.stdout.\r\n",
      "#\r\n",
      "# You can override the rc default verbosity from the command line by\r\n",
      "# giving the flags --verbose-LEVEL where LEVEL is one of the legal\r\n",
      "# levels, e.g., --verbose-helpful.\r\n",
      "#\r\n",
      "# You can access the verbose instance in your code\r\n",
      "#   from matplotlib import verbose.\r\n",
      "#verbose.level  : silent      # one of silent, helpful, debug, debug-annoying\r\n",
      "#verbose.fileo  : sys.stdout  # a log filename, sys.stdout or sys.stderr\r\n",
      "\r\n",
      "# Event keys to interact with figures/plots via keyboard.\r\n",
      "# Customize these settings according to your needs.\r\n",
      "# Leave the field(s) empty if you don't need a key-map. (i.e., fullscreen : '')\r\n",
      "\r\n",
      "#keymap.fullscreen : f               # toggling\r\n",
      "#keymap.home : h, r, home            # home or reset mnemonic\r\n",
      "#keymap.back : left, c, backspace    # forward / backward keys to enable\r\n",
      "#keymap.forward : right, v           #   left handed quick navigation\r\n",
      "#keymap.pan : p                      # pan mnemonic\r\n",
      "#keymap.zoom : o                     # zoom mnemonic\r\n",
      "#keymap.save : s                     # saving current figure\r\n",
      "#keymap.quit : ctrl+w, cmd+w         # close the current figure\r\n",
      "#keymap.grid : g                     # switching on/off a grid in current axes\r\n",
      "#keymap.yscale : l                   # toggle scaling of y-axes ('log'/'linear')\r\n",
      "#keymap.xscale : L, k                # toggle scaling of x-axes ('log'/'linear')\r\n",
      "#keymap.all_axes : a                 # enable all axes\r\n",
      "\r\n",
      "# Control location of examples data files\r\n",
      "#examples.directory : ''   # directory to look in for custom installation\r\n",
      "\r\n",
      "###ANIMATION settings\r\n",
      "#animation.html : 'none'           # How to display the animation as HTML in\r\n",
      "                                   # the IPython notebook. 'html5' uses\r\n",
      "                                   # HTML5 video tag.\r\n",
      "#animation.writer : ffmpeg         # MovieWriter 'backend' to use\r\n",
      "#animation.codec : mpeg4           # Codec to use for writing movie\r\n",
      "#animation.bitrate: -1             # Controls size/quality tradeoff for movie.\r\n",
      "                                   # -1 implies let utility auto-determine\r\n",
      "#animation.frame_format: 'png'     # Controls frame format used by temp files\r\n",
      "#animation.ffmpeg_path: 'ffmpeg'   # Path to ffmpeg binary. Without full path\r\n",
      "                                   # $PATH is searched\r\n",
      "#animation.ffmpeg_args: ''         # Additional arguments to pass to ffmpeg\r\n",
      "#animation.avconv_path: 'avconv'   # Path to avconv binary. Without full path\r\n",
      "                                   # $PATH is searched\r\n",
      "#animation.avconv_args: ''         # Additional arguments to pass to avconv\r\n",
      "#animation.mencoder_path: 'mencoder'\r\n",
      "                                   # Path to mencoder binary. Without full path\r\n",
      "                                   # $PATH is searched\r\n",
      "#animation.mencoder_args: ''       # Additional arguments to pass to mencoder\r\n",
      "#animation.convert_path: 'convert' # Path to ImageMagick's convert binary.\r\n",
      "                                   # On Windows use the full path since convert\r\n",
      "                                   # is also the name of a system tool.\r\n"
     ]
    }
   ],
   "source": [
    "!cat {mpl.matplotlib_fname()}"
   ]
  },
  {
   "cell_type": "markdown",
   "metadata": {},
   "source": [
    "As you can see, a `matplotlibrc` file just consists of a bunch of key/value pairs. The keys are all namespaced and each key is separated from its corresponding value by a colon. \n",
    "\n",
    "So, as an example, if you wanted to make the last set of changes we did by calling the `rc()` function your permanent default style, you would simply create a new `matplotlibrc` file in one of the three locations I mentioned before, and you would then add the following lines to that file to override the default look and feel.\n",
    "\n",
    "```python\n",
    "lines.marker                : s\n",
    "lines.linestyle             : --\n",
    "lines.linewidth             : 2.0\n",
    "```\n",
    "\n",
    "Let's go ahead and give that option a try now. In the next cell, we'll create a new `matplotlibrc` file in the default configuration directory and add to it the three lines above."
   ]
  },
  {
   "cell_type": "code",
   "execution_count": 12,
   "metadata": {
    "collapsed": true
   },
   "outputs": [],
   "source": [
    "import os\n",
    "\n",
    "matplotlibrc_location = os.path.join(mpl.get_configdir(), 'matplotlibrc')\n",
    "matplotlib_content = \"\"\"\n",
    "lines.marker                : s\n",
    "lines.linestyle             : --\n",
    "lines.linewidth             : 2.0\n",
    "\"\"\"\n",
    "\n",
    "with open(matplotlibrc_location, 'w') as fout:\n",
    "    fout.write(matplotlib_content.strip())"
   ]
  },
  {
   "cell_type": "markdown",
   "metadata": {},
   "source": [
    "Now, to see the results of this change, we'll need to restart the kernel and then do the normal setup once again. I've copied the standard setup code below for convenience, so let's go ahead and restart the kernel now and see if our `matplotlibrc` file makes a difference."
   ]
  },
  {
   "cell_type": "code",
   "execution_count": 1,
   "metadata": {
    "collapsed": true
   },
   "outputs": [],
   "source": [
    "%matplotlib inline\n",
    "import matplotlib as mpl\n",
    "import matplotlib.pyplot as plt\n",
    "import numpy as np\n",
    "\n",
    "from IPython.display import set_matplotlib_formats\n",
    "set_matplotlib_formats('retina')"
   ]
  },
  {
   "cell_type": "markdown",
   "metadata": {},
   "source": [
    "Now, if we call the `matploblib_fname()` function again, we should see that matplotlib is now using our own `matplotlibrc` file that we just created, so let's give that a try now."
   ]
  },
  {
   "cell_type": "code",
   "execution_count": 2,
   "metadata": {
    "collapsed": false
   },
   "outputs": [
    {
     "data": {
      "text/plain": [
       "u'/Users/croach/.matplotlib/matplotlibrc'"
      ]
     },
     "execution_count": 2,
     "metadata": {},
     "output_type": "execute_result"
    }
   ],
   "source": [
    "mpl.matplotlib_fname()"
   ]
  },
  {
   "cell_type": "markdown",
   "metadata": {},
   "source": [
    "And, that looks good, we're no longer using the default `matplotlibrc` file that comes with a standard install of matplotlib. Now, let's try our plot again and see if it looks like the one we made earlier after calling the `rc()` function."
   ]
  },
  {
   "cell_type": "code",
   "execution_count": 3,
   "metadata": {
    "collapsed": false
   },
   "outputs": [
    {
     "data": {
      "image/png": "[encoded data removed]",
      "text/plain": [
       "<matplotlib.figure.Figure at 0x10615d7d0>"
      ]
     },
     "metadata": {
      "image/png": {
       "height": 255,
       "width": 374
      }
     },
     "output_type": "display_data"
    }
   ],
   "source": [
    "plt.plot(np.random.randn(20));"
   ]
  },
  {
   "cell_type": "markdown",
   "metadata": {},
   "source": [
    "And, that looks exactly the same!\n",
    "\n",
    "## Conclusion\n",
    "\n",
    "And, that's also going to bring to the very end of this lesson. To recap, we learned that we're not stuck with the default look and feel that matplotlib ships with. Oh no, in fact, matplotlib gives us a ton of control to modify the appearance of our plots and we can do so on either on the fly through the direct manipulation of the `rcParams` object, or permanently by adding the default settings we want to a `matplotlibrc` file."
   ]
  },
  {
   "cell_type": "code",
   "execution_count": null,
   "metadata": {
    "collapsed": false
   },
   "outputs": [],
   "source": [
    "!cat {matplotlibrc_location}"
   ]
  },
  {
   "cell_type": "code",
   "execution_count": null,
   "metadata": {
    "collapsed": true
   },
   "outputs": [],
   "source": []
  },
  {
   "cell_type": "code",
   "execution_count": null,
   "metadata": {
    "collapsed": true
   },
   "outputs": [],
   "source": []
  },
  {
   "cell_type": "code",
   "execution_count": null,
   "metadata": {
    "collapsed": true
   },
   "outputs": [],
   "source": []
  },
  {
   "cell_type": "code",
   "execution_count": null,
   "metadata": {
    "collapsed": true
   },
   "outputs": [],
   "source": []
  },
  {
   "cell_type": "code",
   "execution_count": null,
   "metadata": {
    "collapsed": true
   },
   "outputs": [],
   "source": []
  },
  {
   "cell_type": "code",
   "execution_count": null,
   "metadata": {
    "collapsed": true
   },
   "outputs": [],
   "source": []
  },
  {
   "cell_type": "code",
   "execution_count": null,
   "metadata": {
    "collapsed": true
   },
   "outputs": [],
   "source": []
  },
  {
   "cell_type": "code",
   "execution_count": null,
   "metadata": {
    "collapsed": false
   },
   "outputs": [],
   "source": [
    "plt.style.available"
   ]
  },
  {
   "cell_type": "code",
   "execution_count": null,
   "metadata": {
    "collapsed": true
   },
   "outputs": [],
   "source": [
    "plt.style.use('fivethirtyeight')"
   ]
  },
  {
   "cell_type": "code",
   "execution_count": null,
   "metadata": {
    "collapsed": false
   },
   "outputs": [],
   "source": [
    "plt.plot(np.random.randn(20))"
   ]
  },
  {
   "cell_type": "markdown",
   "metadata": {},
   "source": [
    "## Reset Your Configuration"
   ]
  },
  {
   "cell_type": "code",
   "execution_count": null,
   "metadata": {
    "collapsed": false
   },
   "outputs": [],
   "source": [
    "mpl.rcParams.update(default_rcParams)"
   ]
  },
  {
   "cell_type": "code",
   "execution_count": null,
   "metadata": {
    "collapsed": false
   },
   "outputs": [],
   "source": [
    "plt.plot(np.random.randn(20))"
   ]
  },
  {
   "cell_type": "markdown",
   "metadata": {},
   "source": [
    "### A Better Way"
   ]
  },
  {
   "cell_type": "code",
   "execution_count": null,
   "metadata": {
    "collapsed": false
   },
   "outputs": [],
   "source": [
    "with plt.style.context('fivethirtyeight'):\n",
    "    plt.plot(np.random.randn(20))    "
   ]
  },
  {
   "cell_type": "code",
   "execution_count": null,
   "metadata": {
    "collapsed": false
   },
   "outputs": [],
   "source": [
    "with plt.style.context({'lines.linewidth': 5, \n",
    "                        'lines.linestyle': '--', \n",
    "                        'lines.marker': 'o', \n",
    "                        'lines.markersize': 15}):\n",
    "    plt.plot(np.random.randn(20))"
   ]
  },
  {
   "cell_type": "code",
   "execution_count": null,
   "metadata": {
    "collapsed": false
   },
   "outputs": [],
   "source": [
    "plt.plot(np.random.randn(20))"
   ]
  }
 ],
 "metadata": {
  "kernelspec": {
   "display_name": "Python 2",
   "language": "python",
   "name": "python2"
  },
  "language_info": {
   "codemirror_mode": {
    "name": "ipython",
    "version": 2
   },
   "file_extension": ".py",
   "mimetype": "text/x-python",
   "name": "python",
   "nbconvert_exporter": "python",
   "pygments_lexer": "ipython2",
   "version": "2.7.11"
  }
 },
 "nbformat": 4,
 "nbformat_minor": 0
}
